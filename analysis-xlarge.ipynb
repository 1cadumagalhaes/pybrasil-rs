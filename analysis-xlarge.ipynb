{
 "cells": [
  {
   "cell_type": "markdown",
   "metadata": {},
   "source": [
    "# Python + Rust: Pandas vs Polars\n",
    "## Architectural Analysis of Data Processing Performance\n",
    "\n",
    "Comparing three fundamentally different approaches:\n",
    "- **Pandas (NumPy)**: Python + Monothread C (eager evaluation)\n",
    "- **Pandas + PyArrow**: Python + Columnar Memory (eager evaluation)\n",
    "- **Polars (Rust)**: Rust + Multithreading + Lazy Evaluation + Query Optimization"
   ]
  },
  {
   "cell_type": "code",
   "execution_count": 11,
   "metadata": {},
   "outputs": [
    {
     "name": "stdout",
     "output_type": "stream",
     "text": [
      "Engines encontrados: Pandas (NumPy), Pandas + PyArrow, Polars (Rust)\n",
      "Cenários encontrados: small, medium, large, xlarge\n",
      "\n",
      "Resultados combinados (médias):\n",
      "scenario           engine  time_seconds    memory_mb scenario_label\n",
      "   large   Pandas (NumPy)     11.344068  2091.189024    Large (10M)\n",
      "   large Pandas + PyArrow      3.917661  1440.267561    Large (10M)\n",
      "   large    Polars (Rust)      0.293151     0.020244    Large (10M)\n",
      "  medium   Pandas (NumPy)      1.582817   252.575122    Medium (1M)\n",
      "  medium Pandas + PyArrow      0.936156   211.091220    Medium (1M)\n",
      "  medium    Polars (Rust)      0.047100     0.017561    Medium (1M)\n",
      "   small   Pandas (NumPy)      0.457220    57.996098     Small (1K)\n",
      "   small Pandas + PyArrow      0.330210    57.865366     Small (1K)\n",
      "   small    Polars (Rust)      0.015354     0.000976     Small (1K)\n",
      "  xlarge   Pandas (NumPy)    162.222210 20316.686829  XLarge (100M)\n",
      "  xlarge Pandas + PyArrow     33.711366 13571.578537  XLarge (100M)\n",
      "  xlarge    Polars (Rust)      5.246276     0.030488  XLarge (100M)\n"
     ]
    }
   ],
   "source": [
    "import pandas as pd\n",
    "import plotly.graph_objects as go\n",
    "import plotly.express as px\n",
    "from pathlib import Path\n",
    "import warnings\n",
    "import numpy as np\n",
    "\n",
    "warnings.filterwarnings('ignore')\n",
    "\n",
    "# Load results\n",
    "results_dir = Path('results')\n",
    "\n",
    "# Load only files that exist\n",
    "dfs = []\n",
    "engines_present = []\n",
    "\n",
    "if (results_dir / 'pandas.csv').exists():\n",
    "    pandas_df = pd.read_csv(results_dir / 'pandas.csv')\n",
    "    pandas_df['engine'] = 'Pandas (NumPy)'\n",
    "    dfs.append(pandas_df)\n",
    "    engines_present.append('Pandas (NumPy)')\n",
    "\n",
    "if (results_dir / 'pandas-pyarrow.csv').exists():\n",
    "    pandas_pyarrow_df = pd.read_csv(results_dir / 'pandas-pyarrow.csv')\n",
    "    pandas_pyarrow_df['engine'] = 'Pandas + PyArrow'\n",
    "    dfs.append(pandas_pyarrow_df)\n",
    "    engines_present.append('Pandas + PyArrow')\n",
    "\n",
    "if (results_dir / 'polars.csv').exists():\n",
    "    polars_df = pd.read_csv(results_dir / 'polars.csv')\n",
    "    polars_df['engine'] = 'Polars (Rust)'\n",
    "    dfs.append(polars_df)\n",
    "    engines_present.append('Polars (Rust)')\n",
    "\n",
    "if not dfs:\n",
    "    raise FileNotFoundError(\"Nenhum arquivo CSV encontrado em results/. Execute 'uv run demo benchmark' primeiro.\")\n",
    "\n",
    "# Combine all results\n",
    "combined_df = pd.concat(dfs, ignore_index=True)\n",
    "\n",
    "# Average results by scenario and engine to handle multiple runs\n",
    "combined_df = combined_df.groupby(['scenario', 'engine'], as_index=False).agg({\n",
    "    'time_seconds': 'mean',\n",
    "    'memory_mb': 'mean'\n",
    "})\n",
    "\n",
    "# Scenario mapping\n",
    "all_scenarios = ['small', 'medium', 'large', 'xlarge']\n",
    "all_labels = ['Small (1K)', 'Medium (1M)', 'Large (10M)', 'XLarge (100M)']\n",
    "\n",
    "# Filter to only scenarios that exist in data\n",
    "present_scenarios = combined_df['scenario'].unique()\n",
    "scenario_order = [s for s in all_scenarios if s in present_scenarios]\n",
    "scenario_labels = [all_labels[all_scenarios.index(s)] for s in scenario_order]\n",
    "scenario_map = dict(zip(scenario_order, scenario_labels))\n",
    "combined_df['scenario_label'] = combined_df['scenario'].map(scenario_map)\n",
    "\n",
    "print(f\"Engines encontrados: {', '.join(engines_present)}\")\n",
    "print(f\"Cenários encontrados: {', '.join(scenario_order)}\")\n",
    "print(\"\\nResultados combinados (médias):\")\n",
    "print(combined_df.to_string(index=False))"
   ]
  },
  {
   "cell_type": "markdown",
   "metadata": {},
   "source": [
    "## 1. The Polars Takeoff: Execution Time (Logarithmic Scale)\n",
    "\n",
    "**Why Logarithmic?** With Polars being 31x faster, a linear scale would make the differences invisible. The log scale reveals the **architectural inflection point**: from Medium (1M) onwards, Polars separates from the pack. At 100M rows, it's an insurmountable gap.\n",
    "\n",
    "**Key Message**: Only Rust/Multithreading can scale this way."
   ]
  },
  {
   "cell_type": "code",
   "execution_count": 12,
   "metadata": {},
   "outputs": [
    {
     "data": {
      "application/vnd.plotly.v1+json": {
       "config": {
        "plotlyServerURL": "https://plot.ly"
       },
       "data": [
        {
         "alignmentgroup": "True",
         "customdata": [
          [
           "large"
          ],
          [
           "medium"
          ],
          [
           "small"
          ],
          [
           "xlarge"
          ]
         ],
         "hovertemplate": "engine=Pandas (NumPy)<br>Dataset Size=%{x}<br>Time (seconds, log scale)=%{y:.4f}<extra></extra>",
         "legendgroup": "Pandas (NumPy)",
         "marker": {
          "color": "#1f77b4",
          "pattern": {
           "shape": ""
          }
         },
         "name": "Pandas (NumPy)",
         "offsetgroup": "Pandas (NumPy)",
         "orientation": "v",
         "showlegend": true,
         "textposition": "auto",
         "type": "bar",
         "x": [
          "Large (10M)",
          "Medium (1M)",
          "Small (1K)",
          "XLarge (100M)"
         ],
         "xaxis": "x",
         "y": {
          "bdata": "1FMhuCmwJkCGGc3+N1P5P9wm/qAVQ90/UWmiVxxHZEA=",
          "dtype": "f8"
         },
         "yaxis": "y"
        },
        {
         "alignmentgroup": "True",
         "customdata": [
          [
           "large"
          ],
          [
           "medium"
          ],
          [
           "small"
          ],
          [
           "xlarge"
          ]
         ],
         "hovertemplate": "engine=Pandas + PyArrow<br>Dataset Size=%{x}<br>Time (seconds, log scale)=%{y:.4f}<extra></extra>",
         "legendgroup": "Pandas + PyArrow",
         "marker": {
          "color": "#ff7f0e",
          "pattern": {
           "shape": ""
          }
         },
         "name": "Pandas + PyArrow",
         "offsetgroup": "Pandas + PyArrow",
         "orientation": "v",
         "showlegend": true,
         "textposition": "auto",
         "type": "bar",
         "x": [
          "Large (10M)",
          "Medium (1M)",
          "Small (1K)",
          "XLarge (100M)"
         ],
         "xaxis": "x",
         "y": {
          "bdata": "kHk4o15XD0BGNt+h/fTtPxiW0BkoItU/LnpKCQ7bQEA=",
          "dtype": "f8"
         },
         "yaxis": "y"
        },
        {
         "alignmentgroup": "True",
         "customdata": [
          [
           "large"
          ],
          [
           "medium"
          ],
          [
           "small"
          ],
          [
           "xlarge"
          ]
         ],
         "hovertemplate": "engine=Polars (Rust)<br>Dataset Size=%{x}<br>Time (seconds, log scale)=%{y:.4f}<extra></extra>",
         "legendgroup": "Polars (Rust)",
         "marker": {
          "color": "#2ca02c",
          "pattern": {
           "shape": ""
          }
         },
         "name": "Polars (Rust)",
         "offsetgroup": "Polars (Rust)",
         "orientation": "v",
         "showlegend": true,
         "textposition": "auto",
         "type": "bar",
         "x": [
          "Large (10M)",
          "Medium (1M)",
          "Small (1K)",
          "XLarge (100M)"
         ],
         "xaxis": "x",
         "y": {
          "bdata": "4pclVf3C0j/Mf0i/fR2oP9cFTyq9cY8/0NFmrC/8FEA=",
          "dtype": "f8"
         },
         "yaxis": "y"
        }
       ],
       "layout": {
        "annotations": [
         {
          "bgcolor": "rgba(255,255,200,0.8)",
          "bordercolor": "#2ca02c",
          "borderpad": 10,
          "borderwidth": 2,
          "font": {
           "color": "#2ca02c",
           "size": 13
          },
          "showarrow": false,
          "text": "<b>At 100M rows: Polars is 30.9x faster than Pandas</b><br>Multithreading + Lazy Evaluation wins",
          "x": 0.5,
          "xref": "paper",
          "y": 1.08,
          "yref": "paper"
         }
        ],
        "barmode": "group",
        "font": {
         "size": 13
        },
        "height": 700,
        "hovermode": "x unified",
        "legend": {
         "bgcolor": "rgba(255,255,255,0.8)",
         "title": {
          "text": "engine"
         },
         "tracegroupgap": 0,
         "x": 0.02,
         "y": 0.98
        },
        "margin": {
         "t": 120
        },
        "showlegend": true,
        "template": {
         "data": {
          "bar": [
           {
            "error_x": {
             "color": "#2a3f5f"
            },
            "error_y": {
             "color": "#2a3f5f"
            },
            "marker": {
             "line": {
              "color": "white",
              "width": 0.5
             },
             "pattern": {
              "fillmode": "overlay",
              "size": 10,
              "solidity": 0.2
             }
            },
            "type": "bar"
           }
          ],
          "barpolar": [
           {
            "marker": {
             "line": {
              "color": "white",
              "width": 0.5
             },
             "pattern": {
              "fillmode": "overlay",
              "size": 10,
              "solidity": 0.2
             }
            },
            "type": "barpolar"
           }
          ],
          "carpet": [
           {
            "aaxis": {
             "endlinecolor": "#2a3f5f",
             "gridcolor": "#C8D4E3",
             "linecolor": "#C8D4E3",
             "minorgridcolor": "#C8D4E3",
             "startlinecolor": "#2a3f5f"
            },
            "baxis": {
             "endlinecolor": "#2a3f5f",
             "gridcolor": "#C8D4E3",
             "linecolor": "#C8D4E3",
             "minorgridcolor": "#C8D4E3",
             "startlinecolor": "#2a3f5f"
            },
            "type": "carpet"
           }
          ],
          "choropleth": [
           {
            "colorbar": {
             "outlinewidth": 0,
             "ticks": ""
            },
            "type": "choropleth"
           }
          ],
          "contour": [
           {
            "colorbar": {
             "outlinewidth": 0,
             "ticks": ""
            },
            "colorscale": [
             [
              0,
              "#0d0887"
             ],
             [
              0.1111111111111111,
              "#46039f"
             ],
             [
              0.2222222222222222,
              "#7201a8"
             ],
             [
              0.3333333333333333,
              "#9c179e"
             ],
             [
              0.4444444444444444,
              "#bd3786"
             ],
             [
              0.5555555555555556,
              "#d8576b"
             ],
             [
              0.6666666666666666,
              "#ed7953"
             ],
             [
              0.7777777777777778,
              "#fb9f3a"
             ],
             [
              0.8888888888888888,
              "#fdca26"
             ],
             [
              1,
              "#f0f921"
             ]
            ],
            "type": "contour"
           }
          ],
          "contourcarpet": [
           {
            "colorbar": {
             "outlinewidth": 0,
             "ticks": ""
            },
            "type": "contourcarpet"
           }
          ],
          "heatmap": [
           {
            "colorbar": {
             "outlinewidth": 0,
             "ticks": ""
            },
            "colorscale": [
             [
              0,
              "#0d0887"
             ],
             [
              0.1111111111111111,
              "#46039f"
             ],
             [
              0.2222222222222222,
              "#7201a8"
             ],
             [
              0.3333333333333333,
              "#9c179e"
             ],
             [
              0.4444444444444444,
              "#bd3786"
             ],
             [
              0.5555555555555556,
              "#d8576b"
             ],
             [
              0.6666666666666666,
              "#ed7953"
             ],
             [
              0.7777777777777778,
              "#fb9f3a"
             ],
             [
              0.8888888888888888,
              "#fdca26"
             ],
             [
              1,
              "#f0f921"
             ]
            ],
            "type": "heatmap"
           }
          ],
          "histogram": [
           {
            "marker": {
             "pattern": {
              "fillmode": "overlay",
              "size": 10,
              "solidity": 0.2
             }
            },
            "type": "histogram"
           }
          ],
          "histogram2d": [
           {
            "colorbar": {
             "outlinewidth": 0,
             "ticks": ""
            },
            "colorscale": [
             [
              0,
              "#0d0887"
             ],
             [
              0.1111111111111111,
              "#46039f"
             ],
             [
              0.2222222222222222,
              "#7201a8"
             ],
             [
              0.3333333333333333,
              "#9c179e"
             ],
             [
              0.4444444444444444,
              "#bd3786"
             ],
             [
              0.5555555555555556,
              "#d8576b"
             ],
             [
              0.6666666666666666,
              "#ed7953"
             ],
             [
              0.7777777777777778,
              "#fb9f3a"
             ],
             [
              0.8888888888888888,
              "#fdca26"
             ],
             [
              1,
              "#f0f921"
             ]
            ],
            "type": "histogram2d"
           }
          ],
          "histogram2dcontour": [
           {
            "colorbar": {
             "outlinewidth": 0,
             "ticks": ""
            },
            "colorscale": [
             [
              0,
              "#0d0887"
             ],
             [
              0.1111111111111111,
              "#46039f"
             ],
             [
              0.2222222222222222,
              "#7201a8"
             ],
             [
              0.3333333333333333,
              "#9c179e"
             ],
             [
              0.4444444444444444,
              "#bd3786"
             ],
             [
              0.5555555555555556,
              "#d8576b"
             ],
             [
              0.6666666666666666,
              "#ed7953"
             ],
             [
              0.7777777777777778,
              "#fb9f3a"
             ],
             [
              0.8888888888888888,
              "#fdca26"
             ],
             [
              1,
              "#f0f921"
             ]
            ],
            "type": "histogram2dcontour"
           }
          ],
          "mesh3d": [
           {
            "colorbar": {
             "outlinewidth": 0,
             "ticks": ""
            },
            "type": "mesh3d"
           }
          ],
          "parcoords": [
           {
            "line": {
             "colorbar": {
              "outlinewidth": 0,
              "ticks": ""
             }
            },
            "type": "parcoords"
           }
          ],
          "pie": [
           {
            "automargin": true,
            "type": "pie"
           }
          ],
          "scatter": [
           {
            "fillpattern": {
             "fillmode": "overlay",
             "size": 10,
             "solidity": 0.2
            },
            "type": "scatter"
           }
          ],
          "scatter3d": [
           {
            "line": {
             "colorbar": {
              "outlinewidth": 0,
              "ticks": ""
             }
            },
            "marker": {
             "colorbar": {
              "outlinewidth": 0,
              "ticks": ""
             }
            },
            "type": "scatter3d"
           }
          ],
          "scattercarpet": [
           {
            "marker": {
             "colorbar": {
              "outlinewidth": 0,
              "ticks": ""
             }
            },
            "type": "scattercarpet"
           }
          ],
          "scattergeo": [
           {
            "marker": {
             "colorbar": {
              "outlinewidth": 0,
              "ticks": ""
             }
            },
            "type": "scattergeo"
           }
          ],
          "scattergl": [
           {
            "marker": {
             "colorbar": {
              "outlinewidth": 0,
              "ticks": ""
             }
            },
            "type": "scattergl"
           }
          ],
          "scattermap": [
           {
            "marker": {
             "colorbar": {
              "outlinewidth": 0,
              "ticks": ""
             }
            },
            "type": "scattermap"
           }
          ],
          "scattermapbox": [
           {
            "marker": {
             "colorbar": {
              "outlinewidth": 0,
              "ticks": ""
             }
            },
            "type": "scattermapbox"
           }
          ],
          "scatterpolar": [
           {
            "marker": {
             "colorbar": {
              "outlinewidth": 0,
              "ticks": ""
             }
            },
            "type": "scatterpolar"
           }
          ],
          "scatterpolargl": [
           {
            "marker": {
             "colorbar": {
              "outlinewidth": 0,
              "ticks": ""
             }
            },
            "type": "scatterpolargl"
           }
          ],
          "scatterternary": [
           {
            "marker": {
             "colorbar": {
              "outlinewidth": 0,
              "ticks": ""
             }
            },
            "type": "scatterternary"
           }
          ],
          "surface": [
           {
            "colorbar": {
             "outlinewidth": 0,
             "ticks": ""
            },
            "colorscale": [
             [
              0,
              "#0d0887"
             ],
             [
              0.1111111111111111,
              "#46039f"
             ],
             [
              0.2222222222222222,
              "#7201a8"
             ],
             [
              0.3333333333333333,
              "#9c179e"
             ],
             [
              0.4444444444444444,
              "#bd3786"
             ],
             [
              0.5555555555555556,
              "#d8576b"
             ],
             [
              0.6666666666666666,
              "#ed7953"
             ],
             [
              0.7777777777777778,
              "#fb9f3a"
             ],
             [
              0.8888888888888888,
              "#fdca26"
             ],
             [
              1,
              "#f0f921"
             ]
            ],
            "type": "surface"
           }
          ],
          "table": [
           {
            "cells": {
             "fill": {
              "color": "#EBF0F8"
             },
             "line": {
              "color": "white"
             }
            },
            "header": {
             "fill": {
              "color": "#C8D4E3"
             },
             "line": {
              "color": "white"
             }
            },
            "type": "table"
           }
          ]
         },
         "layout": {
          "annotationdefaults": {
           "arrowcolor": "#2a3f5f",
           "arrowhead": 0,
           "arrowwidth": 1
          },
          "autotypenumbers": "strict",
          "coloraxis": {
           "colorbar": {
            "outlinewidth": 0,
            "ticks": ""
           }
          },
          "colorscale": {
           "diverging": [
            [
             0,
             "#8e0152"
            ],
            [
             0.1,
             "#c51b7d"
            ],
            [
             0.2,
             "#de77ae"
            ],
            [
             0.3,
             "#f1b6da"
            ],
            [
             0.4,
             "#fde0ef"
            ],
            [
             0.5,
             "#f7f7f7"
            ],
            [
             0.6,
             "#e6f5d0"
            ],
            [
             0.7,
             "#b8e186"
            ],
            [
             0.8,
             "#7fbc41"
            ],
            [
             0.9,
             "#4d9221"
            ],
            [
             1,
             "#276419"
            ]
           ],
           "sequential": [
            [
             0,
             "#0d0887"
            ],
            [
             0.1111111111111111,
             "#46039f"
            ],
            [
             0.2222222222222222,
             "#7201a8"
            ],
            [
             0.3333333333333333,
             "#9c179e"
            ],
            [
             0.4444444444444444,
             "#bd3786"
            ],
            [
             0.5555555555555556,
             "#d8576b"
            ],
            [
             0.6666666666666666,
             "#ed7953"
            ],
            [
             0.7777777777777778,
             "#fb9f3a"
            ],
            [
             0.8888888888888888,
             "#fdca26"
            ],
            [
             1,
             "#f0f921"
            ]
           ],
           "sequentialminus": [
            [
             0,
             "#0d0887"
            ],
            [
             0.1111111111111111,
             "#46039f"
            ],
            [
             0.2222222222222222,
             "#7201a8"
            ],
            [
             0.3333333333333333,
             "#9c179e"
            ],
            [
             0.4444444444444444,
             "#bd3786"
            ],
            [
             0.5555555555555556,
             "#d8576b"
            ],
            [
             0.6666666666666666,
             "#ed7953"
            ],
            [
             0.7777777777777778,
             "#fb9f3a"
            ],
            [
             0.8888888888888888,
             "#fdca26"
            ],
            [
             1,
             "#f0f921"
            ]
           ]
          },
          "colorway": [
           "#636efa",
           "#EF553B",
           "#00cc96",
           "#ab63fa",
           "#FFA15A",
           "#19d3f3",
           "#FF6692",
           "#B6E880",
           "#FF97FF",
           "#FECB52"
          ],
          "font": {
           "color": "#2a3f5f"
          },
          "geo": {
           "bgcolor": "white",
           "lakecolor": "white",
           "landcolor": "white",
           "showlakes": true,
           "showland": true,
           "subunitcolor": "#C8D4E3"
          },
          "hoverlabel": {
           "align": "left"
          },
          "hovermode": "closest",
          "mapbox": {
           "style": "light"
          },
          "paper_bgcolor": "white",
          "plot_bgcolor": "white",
          "polar": {
           "angularaxis": {
            "gridcolor": "#EBF0F8",
            "linecolor": "#EBF0F8",
            "ticks": ""
           },
           "bgcolor": "white",
           "radialaxis": {
            "gridcolor": "#EBF0F8",
            "linecolor": "#EBF0F8",
            "ticks": ""
           }
          },
          "scene": {
           "xaxis": {
            "backgroundcolor": "white",
            "gridcolor": "#DFE8F3",
            "gridwidth": 2,
            "linecolor": "#EBF0F8",
            "showbackground": true,
            "ticks": "",
            "zerolinecolor": "#EBF0F8"
           },
           "yaxis": {
            "backgroundcolor": "white",
            "gridcolor": "#DFE8F3",
            "gridwidth": 2,
            "linecolor": "#EBF0F8",
            "showbackground": true,
            "ticks": "",
            "zerolinecolor": "#EBF0F8"
           },
           "zaxis": {
            "backgroundcolor": "white",
            "gridcolor": "#DFE8F3",
            "gridwidth": 2,
            "linecolor": "#EBF0F8",
            "showbackground": true,
            "ticks": "",
            "zerolinecolor": "#EBF0F8"
           }
          },
          "shapedefaults": {
           "line": {
            "color": "#2a3f5f"
           }
          },
          "ternary": {
           "aaxis": {
            "gridcolor": "#DFE8F3",
            "linecolor": "#A2B1C6",
            "ticks": ""
           },
           "baxis": {
            "gridcolor": "#DFE8F3",
            "linecolor": "#A2B1C6",
            "ticks": ""
           },
           "bgcolor": "white",
           "caxis": {
            "gridcolor": "#DFE8F3",
            "linecolor": "#A2B1C6",
            "ticks": ""
           }
          },
          "title": {
           "x": 0.05
          },
          "xaxis": {
           "automargin": true,
           "gridcolor": "#EBF0F8",
           "linecolor": "#EBF0F8",
           "ticks": "",
           "title": {
            "standoff": 15
           },
           "zerolinecolor": "#EBF0F8",
           "zerolinewidth": 2
          },
          "yaxis": {
           "automargin": true,
           "gridcolor": "#EBF0F8",
           "linecolor": "#EBF0F8",
           "ticks": "",
           "title": {
            "standoff": 15
           },
           "zerolinecolor": "#EBF0F8",
           "zerolinewidth": 2
          }
         }
        },
        "title": {
         "text": "Execution Time: The Polars Architectural Advantage (Log Scale)"
        },
        "xaxis": {
         "anchor": "y",
         "categoryarray": [
          "Small (1K)",
          "Medium (1M)",
          "Large (10M)",
          "XLarge (100M)"
         ],
         "categoryorder": "array",
         "domain": [
          0,
          1
         ],
         "title": {
          "text": "Dataset Size"
         }
        },
        "yaxis": {
         "anchor": "x",
         "domain": [
          0,
          1
         ],
         "title": {
          "text": "Time (seconds, log scale)"
         },
         "type": "log"
        }
       }
      }
     },
     "metadata": {},
     "output_type": "display_data"
    }
   ],
   "source": [
    "xlarge_time_data = combined_df[combined_df['scenario'] == 'xlarge'].sort_values('time_seconds')\n",
    "fastest_time = xlarge_time_data['time_seconds'].iloc[0]\n",
    "slowest_time = xlarge_time_data['time_seconds'].iloc[-1]\n",
    "speedup_ratio = slowest_time / fastest_time\n",
    "\n",
    "fig_time_log = px.bar(\n",
    "    combined_df.sort_values(['scenario', 'engine']),\n",
    "    x='scenario_label',\n",
    "    y='time_seconds',\n",
    "    color='engine',\n",
    "    barmode='group',\n",
    "    title='Execution Time: The Polars Architectural Advantage (Log Scale)',\n",
    "    labels={'time_seconds': 'Time (seconds, log scale)', 'scenario_label': 'Dataset Size'},\n",
    "    color_discrete_map={\n",
    "        'Pandas (NumPy)': '#1f77b4',\n",
    "        'Pandas + PyArrow': '#ff7f0e',\n",
    "        'Polars (Rust)': '#2ca02c'\n",
    "    },\n",
    "    category_orders={'scenario_label': scenario_labels},\n",
    "    hover_data={'time_seconds': ':.4f', 'scenario': False}\n",
    ")\n",
    "\n",
    "fig_time_log.update_yaxes(type='log')\n",
    "\n",
    "fig_time_log.update_layout(\n",
    "    height=700,\n",
    "    template='plotly_white',\n",
    "    font=dict(size=13),\n",
    "    hovermode='x unified',\n",
    "    showlegend=True,\n",
    "    legend=dict(x=0.02, y=0.98, bgcolor='rgba(255,255,255,0.8)'),\n",
    "    margin=dict(t=120)\n",
    ")\n",
    "\n",
    "fig_time_log.add_annotation(\n",
    "    text=f\"<b>At 100M rows: Polars is {speedup_ratio:.1f}x faster than Pandas</b><br>Multithreading + Lazy Evaluation wins\",\n",
    "    xref=\"paper\", yref=\"paper\",\n",
    "    x=0.5, y=1.08, showarrow=False,\n",
    "    font=dict(size=13, color='#2ca02c'),\n",
    "    bgcolor='rgba(255,255,200,0.8)',\n",
    "    bordercolor='#2ca02c',\n",
    "    borderwidth=2,\n",
    "    borderpad=10\n",
    ")\n",
    "\n",
    "fig_time_log.show()"
   ]
  },
  {
   "cell_type": "markdown",
   "metadata": {},
   "source": [
    "## 2. The Memory Wall: Peak RAM Usage (Large Scenarios Only)\n",
    "\n",
    "**Architectural Insight**: At 100M rows, watch the bar heights:\n",
    "- **Pandas bar**: 20 GB (ceiling)\n",
    "- **Pandas+PyArrow bar**: 13 GB (still massive)\n",
    "- **Polars bar**: Invisible (30 KB)\n",
    "\n",
    "**The 677,000x difference** (20 GB vs 30 KB) proves Lazy Pushdown works: Polars only loads what's needed. Pandas' eager evaluation forces full file allocation plus overhead.\n",
    "\n",
    "**This is why we over-provision hardware for Pandas applications.**"
   ]
  },
  {
   "cell_type": "code",
   "execution_count": 13,
   "metadata": {},
   "outputs": [
    {
     "data": {
      "application/vnd.plotly.v1+json": {
       "config": {
        "plotlyServerURL": "https://plot.ly"
       },
       "data": [
        {
         "alignmentgroup": "True",
         "customdata": {
          "bdata": "fQzOx2BWoEBQvwL1K9fTQA==",
          "dtype": "f8",
          "shape": "2, 1"
         },
         "hovertemplate": "engine=Pandas (NumPy)<br>Dataset Size=%{x}<br>Memory (GB)=%{y:.3f}<br>memory_mb=%{customdata[0]:.0f}<extra></extra>",
         "legendgroup": "Pandas (NumPy)",
         "marker": {
          "color": "#1f77b4",
          "pattern": {
           "shape": ""
          }
         },
         "name": "Pandas (NumPy)",
         "offsetgroup": "Pandas (NumPy)",
         "orientation": "v",
         "showlegend": true,
         "textposition": "auto",
         "type": "bar",
         "x": [
          "Large (10M)",
          "XLarge (100M)"
         ],
         "xaxis": "x",
         "y": {
          "bdata": "fQzOx2BWAEBQvwL1K9czQA==",
          "dtype": "f8"
         },
         "yaxis": "y"
        },
        {
         "alignmentgroup": "True",
         "customdata": {
          "bdata": "uB+B+xGBlkDXoHwNyoHKQA==",
          "dtype": "f8",
          "shape": "2, 1"
         },
         "hovertemplate": "engine=Pandas + PyArrow<br>Dataset Size=%{x}<br>Memory (GB)=%{y:.3f}<br>memory_mb=%{customdata[0]:.0f}<extra></extra>",
         "legendgroup": "Pandas + PyArrow",
         "marker": {
          "color": "#ff7f0e",
          "pattern": {
           "shape": ""
          }
         },
         "name": "Pandas + PyArrow",
         "offsetgroup": "Pandas + PyArrow",
         "orientation": "v",
         "showlegend": true,
         "textposition": "auto",
         "type": "bar",
         "x": [
          "Large (10M)",
          "XLarge (100M)"
         ],
         "xaxis": "x",
         "y": {
          "bdata": "uB+B+xGB9j/XoHwNyoEqQA==",
          "dtype": "f8"
         },
         "yaxis": "y"
        },
        {
         "alignmentgroup": "True",
         "customdata": {
          "bdata": "uxStS9G6lD84H4PzMTifPw==",
          "dtype": "f8",
          "shape": "2, 1"
         },
         "hovertemplate": "engine=Polars (Rust)<br>Dataset Size=%{x}<br>Memory (GB)=%{y:.3f}<br>memory_mb=%{customdata[0]:.0f}<extra></extra>",
         "legendgroup": "Polars (Rust)",
         "marker": {
          "color": "#2ca02c",
          "pattern": {
           "shape": ""
          }
         },
         "name": "Polars (Rust)",
         "offsetgroup": "Polars (Rust)",
         "orientation": "v",
         "showlegend": true,
         "textposition": "auto",
         "type": "bar",
         "x": [
          "Large (10M)",
          "XLarge (100M)"
         ],
         "xaxis": "x",
         "y": {
          "bdata": "uxStS9G69D44H4PzMTj/Pg==",
          "dtype": "f8"
         },
         "yaxis": "y"
        }
       ],
       "layout": {
        "annotations": [
         {
          "bgcolor": "rgba(255,200,200,0.8)",
          "bordercolor": "#d62728",
          "borderpad": 10,
          "borderwidth": 2,
          "font": {
           "color": "#d62728",
           "size": 13
          },
          "showarrow": false,
          "text": "<b>At 100M rows: Polars uses 31 KB vs Pandas' 19.8 GB</b><br>That's a 664,209x difference! Lazy evaluation proves its worth.",
          "x": 0.5,
          "xref": "paper",
          "y": 1.08,
          "yref": "paper"
         }
        ],
        "barmode": "group",
        "font": {
         "size": 13
        },
        "height": 700,
        "hovermode": "x unified",
        "legend": {
         "bgcolor": "rgba(255,255,255,0.8)",
         "title": {
          "text": "engine"
         },
         "tracegroupgap": 0,
         "x": 0.02,
         "y": 0.98
        },
        "margin": {
         "t": 120
        },
        "showlegend": true,
        "template": {
         "data": {
          "bar": [
           {
            "error_x": {
             "color": "#2a3f5f"
            },
            "error_y": {
             "color": "#2a3f5f"
            },
            "marker": {
             "line": {
              "color": "white",
              "width": 0.5
             },
             "pattern": {
              "fillmode": "overlay",
              "size": 10,
              "solidity": 0.2
             }
            },
            "type": "bar"
           }
          ],
          "barpolar": [
           {
            "marker": {
             "line": {
              "color": "white",
              "width": 0.5
             },
             "pattern": {
              "fillmode": "overlay",
              "size": 10,
              "solidity": 0.2
             }
            },
            "type": "barpolar"
           }
          ],
          "carpet": [
           {
            "aaxis": {
             "endlinecolor": "#2a3f5f",
             "gridcolor": "#C8D4E3",
             "linecolor": "#C8D4E3",
             "minorgridcolor": "#C8D4E3",
             "startlinecolor": "#2a3f5f"
            },
            "baxis": {
             "endlinecolor": "#2a3f5f",
             "gridcolor": "#C8D4E3",
             "linecolor": "#C8D4E3",
             "minorgridcolor": "#C8D4E3",
             "startlinecolor": "#2a3f5f"
            },
            "type": "carpet"
           }
          ],
          "choropleth": [
           {
            "colorbar": {
             "outlinewidth": 0,
             "ticks": ""
            },
            "type": "choropleth"
           }
          ],
          "contour": [
           {
            "colorbar": {
             "outlinewidth": 0,
             "ticks": ""
            },
            "colorscale": [
             [
              0,
              "#0d0887"
             ],
             [
              0.1111111111111111,
              "#46039f"
             ],
             [
              0.2222222222222222,
              "#7201a8"
             ],
             [
              0.3333333333333333,
              "#9c179e"
             ],
             [
              0.4444444444444444,
              "#bd3786"
             ],
             [
              0.5555555555555556,
              "#d8576b"
             ],
             [
              0.6666666666666666,
              "#ed7953"
             ],
             [
              0.7777777777777778,
              "#fb9f3a"
             ],
             [
              0.8888888888888888,
              "#fdca26"
             ],
             [
              1,
              "#f0f921"
             ]
            ],
            "type": "contour"
           }
          ],
          "contourcarpet": [
           {
            "colorbar": {
             "outlinewidth": 0,
             "ticks": ""
            },
            "type": "contourcarpet"
           }
          ],
          "heatmap": [
           {
            "colorbar": {
             "outlinewidth": 0,
             "ticks": ""
            },
            "colorscale": [
             [
              0,
              "#0d0887"
             ],
             [
              0.1111111111111111,
              "#46039f"
             ],
             [
              0.2222222222222222,
              "#7201a8"
             ],
             [
              0.3333333333333333,
              "#9c179e"
             ],
             [
              0.4444444444444444,
              "#bd3786"
             ],
             [
              0.5555555555555556,
              "#d8576b"
             ],
             [
              0.6666666666666666,
              "#ed7953"
             ],
             [
              0.7777777777777778,
              "#fb9f3a"
             ],
             [
              0.8888888888888888,
              "#fdca26"
             ],
             [
              1,
              "#f0f921"
             ]
            ],
            "type": "heatmap"
           }
          ],
          "histogram": [
           {
            "marker": {
             "pattern": {
              "fillmode": "overlay",
              "size": 10,
              "solidity": 0.2
             }
            },
            "type": "histogram"
           }
          ],
          "histogram2d": [
           {
            "colorbar": {
             "outlinewidth": 0,
             "ticks": ""
            },
            "colorscale": [
             [
              0,
              "#0d0887"
             ],
             [
              0.1111111111111111,
              "#46039f"
             ],
             [
              0.2222222222222222,
              "#7201a8"
             ],
             [
              0.3333333333333333,
              "#9c179e"
             ],
             [
              0.4444444444444444,
              "#bd3786"
             ],
             [
              0.5555555555555556,
              "#d8576b"
             ],
             [
              0.6666666666666666,
              "#ed7953"
             ],
             [
              0.7777777777777778,
              "#fb9f3a"
             ],
             [
              0.8888888888888888,
              "#fdca26"
             ],
             [
              1,
              "#f0f921"
             ]
            ],
            "type": "histogram2d"
           }
          ],
          "histogram2dcontour": [
           {
            "colorbar": {
             "outlinewidth": 0,
             "ticks": ""
            },
            "colorscale": [
             [
              0,
              "#0d0887"
             ],
             [
              0.1111111111111111,
              "#46039f"
             ],
             [
              0.2222222222222222,
              "#7201a8"
             ],
             [
              0.3333333333333333,
              "#9c179e"
             ],
             [
              0.4444444444444444,
              "#bd3786"
             ],
             [
              0.5555555555555556,
              "#d8576b"
             ],
             [
              0.6666666666666666,
              "#ed7953"
             ],
             [
              0.7777777777777778,
              "#fb9f3a"
             ],
             [
              0.8888888888888888,
              "#fdca26"
             ],
             [
              1,
              "#f0f921"
             ]
            ],
            "type": "histogram2dcontour"
           }
          ],
          "mesh3d": [
           {
            "colorbar": {
             "outlinewidth": 0,
             "ticks": ""
            },
            "type": "mesh3d"
           }
          ],
          "parcoords": [
           {
            "line": {
             "colorbar": {
              "outlinewidth": 0,
              "ticks": ""
             }
            },
            "type": "parcoords"
           }
          ],
          "pie": [
           {
            "automargin": true,
            "type": "pie"
           }
          ],
          "scatter": [
           {
            "fillpattern": {
             "fillmode": "overlay",
             "size": 10,
             "solidity": 0.2
            },
            "type": "scatter"
           }
          ],
          "scatter3d": [
           {
            "line": {
             "colorbar": {
              "outlinewidth": 0,
              "ticks": ""
             }
            },
            "marker": {
             "colorbar": {
              "outlinewidth": 0,
              "ticks": ""
             }
            },
            "type": "scatter3d"
           }
          ],
          "scattercarpet": [
           {
            "marker": {
             "colorbar": {
              "outlinewidth": 0,
              "ticks": ""
             }
            },
            "type": "scattercarpet"
           }
          ],
          "scattergeo": [
           {
            "marker": {
             "colorbar": {
              "outlinewidth": 0,
              "ticks": ""
             }
            },
            "type": "scattergeo"
           }
          ],
          "scattergl": [
           {
            "marker": {
             "colorbar": {
              "outlinewidth": 0,
              "ticks": ""
             }
            },
            "type": "scattergl"
           }
          ],
          "scattermap": [
           {
            "marker": {
             "colorbar": {
              "outlinewidth": 0,
              "ticks": ""
             }
            },
            "type": "scattermap"
           }
          ],
          "scattermapbox": [
           {
            "marker": {
             "colorbar": {
              "outlinewidth": 0,
              "ticks": ""
             }
            },
            "type": "scattermapbox"
           }
          ],
          "scatterpolar": [
           {
            "marker": {
             "colorbar": {
              "outlinewidth": 0,
              "ticks": ""
             }
            },
            "type": "scatterpolar"
           }
          ],
          "scatterpolargl": [
           {
            "marker": {
             "colorbar": {
              "outlinewidth": 0,
              "ticks": ""
             }
            },
            "type": "scatterpolargl"
           }
          ],
          "scatterternary": [
           {
            "marker": {
             "colorbar": {
              "outlinewidth": 0,
              "ticks": ""
             }
            },
            "type": "scatterternary"
           }
          ],
          "surface": [
           {
            "colorbar": {
             "outlinewidth": 0,
             "ticks": ""
            },
            "colorscale": [
             [
              0,
              "#0d0887"
             ],
             [
              0.1111111111111111,
              "#46039f"
             ],
             [
              0.2222222222222222,
              "#7201a8"
             ],
             [
              0.3333333333333333,
              "#9c179e"
             ],
             [
              0.4444444444444444,
              "#bd3786"
             ],
             [
              0.5555555555555556,
              "#d8576b"
             ],
             [
              0.6666666666666666,
              "#ed7953"
             ],
             [
              0.7777777777777778,
              "#fb9f3a"
             ],
             [
              0.8888888888888888,
              "#fdca26"
             ],
             [
              1,
              "#f0f921"
             ]
            ],
            "type": "surface"
           }
          ],
          "table": [
           {
            "cells": {
             "fill": {
              "color": "#EBF0F8"
             },
             "line": {
              "color": "white"
             }
            },
            "header": {
             "fill": {
              "color": "#C8D4E3"
             },
             "line": {
              "color": "white"
             }
            },
            "type": "table"
           }
          ]
         },
         "layout": {
          "annotationdefaults": {
           "arrowcolor": "#2a3f5f",
           "arrowhead": 0,
           "arrowwidth": 1
          },
          "autotypenumbers": "strict",
          "coloraxis": {
           "colorbar": {
            "outlinewidth": 0,
            "ticks": ""
           }
          },
          "colorscale": {
           "diverging": [
            [
             0,
             "#8e0152"
            ],
            [
             0.1,
             "#c51b7d"
            ],
            [
             0.2,
             "#de77ae"
            ],
            [
             0.3,
             "#f1b6da"
            ],
            [
             0.4,
             "#fde0ef"
            ],
            [
             0.5,
             "#f7f7f7"
            ],
            [
             0.6,
             "#e6f5d0"
            ],
            [
             0.7,
             "#b8e186"
            ],
            [
             0.8,
             "#7fbc41"
            ],
            [
             0.9,
             "#4d9221"
            ],
            [
             1,
             "#276419"
            ]
           ],
           "sequential": [
            [
             0,
             "#0d0887"
            ],
            [
             0.1111111111111111,
             "#46039f"
            ],
            [
             0.2222222222222222,
             "#7201a8"
            ],
            [
             0.3333333333333333,
             "#9c179e"
            ],
            [
             0.4444444444444444,
             "#bd3786"
            ],
            [
             0.5555555555555556,
             "#d8576b"
            ],
            [
             0.6666666666666666,
             "#ed7953"
            ],
            [
             0.7777777777777778,
             "#fb9f3a"
            ],
            [
             0.8888888888888888,
             "#fdca26"
            ],
            [
             1,
             "#f0f921"
            ]
           ],
           "sequentialminus": [
            [
             0,
             "#0d0887"
            ],
            [
             0.1111111111111111,
             "#46039f"
            ],
            [
             0.2222222222222222,
             "#7201a8"
            ],
            [
             0.3333333333333333,
             "#9c179e"
            ],
            [
             0.4444444444444444,
             "#bd3786"
            ],
            [
             0.5555555555555556,
             "#d8576b"
            ],
            [
             0.6666666666666666,
             "#ed7953"
            ],
            [
             0.7777777777777778,
             "#fb9f3a"
            ],
            [
             0.8888888888888888,
             "#fdca26"
            ],
            [
             1,
             "#f0f921"
            ]
           ]
          },
          "colorway": [
           "#636efa",
           "#EF553B",
           "#00cc96",
           "#ab63fa",
           "#FFA15A",
           "#19d3f3",
           "#FF6692",
           "#B6E880",
           "#FF97FF",
           "#FECB52"
          ],
          "font": {
           "color": "#2a3f5f"
          },
          "geo": {
           "bgcolor": "white",
           "lakecolor": "white",
           "landcolor": "white",
           "showlakes": true,
           "showland": true,
           "subunitcolor": "#C8D4E3"
          },
          "hoverlabel": {
           "align": "left"
          },
          "hovermode": "closest",
          "mapbox": {
           "style": "light"
          },
          "paper_bgcolor": "white",
          "plot_bgcolor": "white",
          "polar": {
           "angularaxis": {
            "gridcolor": "#EBF0F8",
            "linecolor": "#EBF0F8",
            "ticks": ""
           },
           "bgcolor": "white",
           "radialaxis": {
            "gridcolor": "#EBF0F8",
            "linecolor": "#EBF0F8",
            "ticks": ""
           }
          },
          "scene": {
           "xaxis": {
            "backgroundcolor": "white",
            "gridcolor": "#DFE8F3",
            "gridwidth": 2,
            "linecolor": "#EBF0F8",
            "showbackground": true,
            "ticks": "",
            "zerolinecolor": "#EBF0F8"
           },
           "yaxis": {
            "backgroundcolor": "white",
            "gridcolor": "#DFE8F3",
            "gridwidth": 2,
            "linecolor": "#EBF0F8",
            "showbackground": true,
            "ticks": "",
            "zerolinecolor": "#EBF0F8"
           },
           "zaxis": {
            "backgroundcolor": "white",
            "gridcolor": "#DFE8F3",
            "gridwidth": 2,
            "linecolor": "#EBF0F8",
            "showbackground": true,
            "ticks": "",
            "zerolinecolor": "#EBF0F8"
           }
          },
          "shapedefaults": {
           "line": {
            "color": "#2a3f5f"
           }
          },
          "ternary": {
           "aaxis": {
            "gridcolor": "#DFE8F3",
            "linecolor": "#A2B1C6",
            "ticks": ""
           },
           "baxis": {
            "gridcolor": "#DFE8F3",
            "linecolor": "#A2B1C6",
            "ticks": ""
           },
           "bgcolor": "white",
           "caxis": {
            "gridcolor": "#DFE8F3",
            "linecolor": "#A2B1C6",
            "ticks": ""
           }
          },
          "title": {
           "x": 0.05
          },
          "xaxis": {
           "automargin": true,
           "gridcolor": "#EBF0F8",
           "linecolor": "#EBF0F8",
           "ticks": "",
           "title": {
            "standoff": 15
           },
           "zerolinecolor": "#EBF0F8",
           "zerolinewidth": 2
          },
          "yaxis": {
           "automargin": true,
           "gridcolor": "#EBF0F8",
           "linecolor": "#EBF0F8",
           "ticks": "",
           "title": {
            "standoff": 15
           },
           "zerolinecolor": "#EBF0F8",
           "zerolinewidth": 2
          }
         }
        },
        "title": {
         "text": "Peak Memory Usage: The Lazy Evaluation Advantage (10M & 100M Rows)"
        },
        "xaxis": {
         "anchor": "y",
         "categoryarray": [
          "Large (10M)",
          "XLarge (100M)"
         ],
         "categoryorder": "array",
         "domain": [
          0,
          1
         ],
         "title": {
          "text": "Dataset Size"
         }
        },
        "yaxis": {
         "anchor": "x",
         "domain": [
          0,
          1
         ],
         "title": {
          "text": "Memory (GB)"
         }
        }
       }
      }
     },
     "metadata": {},
     "output_type": "display_data"
    }
   ],
   "source": [
    "large_scenarios = combined_df[combined_df['scenario'].isin(['large', 'xlarge'])].copy()\n",
    "large_scenarios['memory_gb'] = large_scenarios['memory_mb'] / 1024\n",
    "\n",
    "xlarge_memory = combined_df[combined_df['scenario'] == 'xlarge'].sort_values('memory_mb')\n",
    "polars_memory_kb = xlarge_memory[xlarge_memory['engine'] == 'Polars (Rust)']['memory_mb'].iloc[0] * 1024\n",
    "pandas_memory_gb = xlarge_memory[xlarge_memory['engine'] == 'Pandas (NumPy)']['memory_mb'].iloc[0] / 1024\n",
    "memory_ratio = (xlarge_memory[xlarge_memory['engine'] == 'Pandas (NumPy)']['memory_mb'].iloc[0]) / (xlarge_memory[xlarge_memory['engine'] == 'Polars (Rust)']['memory_mb'].iloc[0] + 0.0001)\n",
    "\n",
    "fig_memory = px.bar(\n",
    "    large_scenarios.sort_values(['scenario', 'engine']),\n",
    "    x='scenario_label',\n",
    "    y='memory_gb',\n",
    "    color='engine',\n",
    "    barmode='group',\n",
    "    title='Peak Memory Usage: The Lazy Evaluation Advantage (10M & 100M Rows)',\n",
    "    labels={'memory_gb': 'Memory (GB)', 'scenario_label': 'Dataset Size'},\n",
    "    color_discrete_map={\n",
    "        'Pandas (NumPy)': '#1f77b4',\n",
    "        'Pandas + PyArrow': '#ff7f0e',\n",
    "        'Polars (Rust)': '#2ca02c'\n",
    "    },\n",
    "    category_orders={'scenario_label': ['Large (10M)', 'XLarge (100M)']},\n",
    "    hover_data={'memory_gb': ':.3f', 'memory_mb': ':.0f'}\n",
    ")\n",
    "\n",
    "fig_memory.update_layout(\n",
    "    height=700,\n",
    "    template='plotly_white',\n",
    "    font=dict(size=13),\n",
    "    hovermode='x unified',\n",
    "    showlegend=True,\n",
    "    legend=dict(x=0.02, y=0.98, bgcolor='rgba(255,255,255,0.8)'),\n",
    "    margin=dict(t=120)\n",
    ")\n",
    "\n",
    "fig_memory.add_annotation(\n",
    "    text=f\"<b>At 100M rows: Polars uses {polars_memory_kb:.0f} KB vs Pandas' {pandas_memory_gb:.1f} GB</b><br>That's a {memory_ratio:,.0f}x difference! Lazy evaluation proves its worth.\",\n",
    "    xref=\"paper\", yref=\"paper\",\n",
    "    x=0.5, y=1.08, showarrow=False,\n",
    "    font=dict(size=13, color='#d62728'),\n",
    "    bgcolor='rgba(255,200,200,0.8)',\n",
    "    bordercolor='#d62728',\n",
    "    borderwidth=2,\n",
    "    borderpad=10\n",
    ")\n",
    "\n",
    "fig_memory.show()"
   ]
  },
  {
   "cell_type": "markdown",
   "metadata": {},
   "source": [
    "## 3. The Hidden Cost: RAM Overhead Factor (100M Scenario)\n",
    "\n",
    "**What is Overhead Factor?** The ratio of peak RAM used ÷ file size on disk.\n",
    "\n",
    "For a ~500 MB parquet file @ 100M rows:\n",
    "- **Pandas**: Requires ~40x the file size in RAM (eager loading + memory representation overhead)\n",
    "- **Pandas + PyArrow**: Requires ~27x the file size in RAM (columnar helps, but still eager)\n",
    "- **Polars**: Requires ~0x the file size in RAM (lazy evaluation + smart query optimization)\n",
    "\n",
    "**This explains infrastructure costs**: Why Hadoop/Spark clusters need 10x the storage in memory. Pandas forces this over-provisioning."
   ]
  },
  {
   "cell_type": "code",
   "execution_count": 14,
   "metadata": {},
   "outputs": [
    {
     "name": "stdout",
     "output_type": "stream",
     "text": [
      "Actual file size: 509.9 MB\n"
     ]
    },
    {
     "data": {
      "application/vnd.plotly.v1+json": {
       "config": {
        "plotlyServerURL": "https://plot.ly"
       },
       "data": [
        {
         "customdata": {
          "bdata": "UL8C9SvX00A=",
          "dtype": "f8",
          "shape": "1, 1"
         },
         "hovertemplate": "Engine=%{x}<br>RAM Used ÷ File Size (multiplier)=%{text:.1f}<br>memory_mb=%{customdata[0]:.0f}<extra></extra>",
         "legendgroup": "Pandas (NumPy)",
         "marker": {
          "color": "#1f77b4",
          "pattern": {
           "shape": ""
          }
         },
         "name": "Pandas (NumPy)",
         "orientation": "v",
         "showlegend": true,
         "text": {
          "bdata": "b+RLkGDsQ0A=",
          "dtype": "f8"
         },
         "textposition": "outside",
         "texttemplate": "<b>%{text:.1f}x</b>",
         "type": "bar",
         "x": [
          "Pandas (NumPy)"
         ],
         "xaxis": "x",
         "y": {
          "bdata": "b+RLkGDsQ0A=",
          "dtype": "f8"
         },
         "yaxis": "y"
        },
        {
         "customdata": {
          "bdata": "16B8DcqBykA=",
          "dtype": "f8",
          "shape": "1, 1"
         },
         "hovertemplate": "Engine=%{x}<br>RAM Used ÷ File Size (multiplier)=%{text:.1f}<br>memory_mb=%{customdata[0]:.0f}<extra></extra>",
         "legendgroup": "Pandas + PyArrow",
         "marker": {
          "color": "#ff7f0e",
          "pattern": {
           "shape": ""
          }
         },
         "name": "Pandas + PyArrow",
         "orientation": "v",
         "showlegend": true,
         "text": {
          "bdata": "/FYjsB6eOkA=",
          "dtype": "f8"
         },
         "textposition": "outside",
         "texttemplate": "<b>%{text:.1f}x</b>",
         "type": "bar",
         "x": [
          "Pandas + PyArrow"
         ],
         "xaxis": "x",
         "y": {
          "bdata": "/FYjsB6eOkA=",
          "dtype": "f8"
         },
         "yaxis": "y"
        },
        {
         "customdata": {
          "bdata": "OB+D8zE4nz8=",
          "dtype": "f8",
          "shape": "1, 1"
         },
         "hovertemplate": "Engine=%{x}<br>RAM Used ÷ File Size (multiplier)=%{text:.1f}<br>memory_mb=%{customdata[0]:.0f}<extra></extra>",
         "legendgroup": "Polars (Rust)",
         "marker": {
          "color": "#2ca02c",
          "pattern": {
           "shape": ""
          }
         },
         "name": "Polars (Rust)",
         "orientation": "v",
         "showlegend": true,
         "text": {
          "bdata": "f1CC/Y9ZDz8=",
          "dtype": "f8"
         },
         "textposition": "outside",
         "texttemplate": "<b>%{text:.1f}x</b>",
         "type": "bar",
         "x": [
          "Polars (Rust)"
         ],
         "xaxis": "x",
         "y": {
          "bdata": "f1CC/Y9ZDz8=",
          "dtype": "f8"
         },
         "yaxis": "y"
        }
       ],
       "layout": {
        "annotations": [
         {
          "bgcolor": "rgba(255,220,220,0.9)",
          "bordercolor": "#8B0000",
          "borderpad": 10,
          "borderwidth": 2,
          "font": {
           "color": "#8B0000",
           "size": 13
          },
          "showarrow": false,
          "text": "<b>Pandas costs 40x more memory than the file size.</b><br>For 510 MB data, Pandas needs 19.8 GB. This forces data center over-provisioning.",
          "x": 0.5,
          "xref": "paper",
          "y": 1.08,
          "yref": "paper"
         }
        ],
        "barmode": "relative",
        "font": {
         "size": 13
        },
        "height": 700,
        "hovermode": "x unified",
        "legend": {
         "title": {
          "text": "Engine"
         },
         "tracegroupgap": 0
        },
        "margin": {
         "t": 120
        },
        "showlegend": false,
        "template": {
         "data": {
          "bar": [
           {
            "error_x": {
             "color": "#2a3f5f"
            },
            "error_y": {
             "color": "#2a3f5f"
            },
            "marker": {
             "line": {
              "color": "white",
              "width": 0.5
             },
             "pattern": {
              "fillmode": "overlay",
              "size": 10,
              "solidity": 0.2
             }
            },
            "type": "bar"
           }
          ],
          "barpolar": [
           {
            "marker": {
             "line": {
              "color": "white",
              "width": 0.5
             },
             "pattern": {
              "fillmode": "overlay",
              "size": 10,
              "solidity": 0.2
             }
            },
            "type": "barpolar"
           }
          ],
          "carpet": [
           {
            "aaxis": {
             "endlinecolor": "#2a3f5f",
             "gridcolor": "#C8D4E3",
             "linecolor": "#C8D4E3",
             "minorgridcolor": "#C8D4E3",
             "startlinecolor": "#2a3f5f"
            },
            "baxis": {
             "endlinecolor": "#2a3f5f",
             "gridcolor": "#C8D4E3",
             "linecolor": "#C8D4E3",
             "minorgridcolor": "#C8D4E3",
             "startlinecolor": "#2a3f5f"
            },
            "type": "carpet"
           }
          ],
          "choropleth": [
           {
            "colorbar": {
             "outlinewidth": 0,
             "ticks": ""
            },
            "type": "choropleth"
           }
          ],
          "contour": [
           {
            "colorbar": {
             "outlinewidth": 0,
             "ticks": ""
            },
            "colorscale": [
             [
              0,
              "#0d0887"
             ],
             [
              0.1111111111111111,
              "#46039f"
             ],
             [
              0.2222222222222222,
              "#7201a8"
             ],
             [
              0.3333333333333333,
              "#9c179e"
             ],
             [
              0.4444444444444444,
              "#bd3786"
             ],
             [
              0.5555555555555556,
              "#d8576b"
             ],
             [
              0.6666666666666666,
              "#ed7953"
             ],
             [
              0.7777777777777778,
              "#fb9f3a"
             ],
             [
              0.8888888888888888,
              "#fdca26"
             ],
             [
              1,
              "#f0f921"
             ]
            ],
            "type": "contour"
           }
          ],
          "contourcarpet": [
           {
            "colorbar": {
             "outlinewidth": 0,
             "ticks": ""
            },
            "type": "contourcarpet"
           }
          ],
          "heatmap": [
           {
            "colorbar": {
             "outlinewidth": 0,
             "ticks": ""
            },
            "colorscale": [
             [
              0,
              "#0d0887"
             ],
             [
              0.1111111111111111,
              "#46039f"
             ],
             [
              0.2222222222222222,
              "#7201a8"
             ],
             [
              0.3333333333333333,
              "#9c179e"
             ],
             [
              0.4444444444444444,
              "#bd3786"
             ],
             [
              0.5555555555555556,
              "#d8576b"
             ],
             [
              0.6666666666666666,
              "#ed7953"
             ],
             [
              0.7777777777777778,
              "#fb9f3a"
             ],
             [
              0.8888888888888888,
              "#fdca26"
             ],
             [
              1,
              "#f0f921"
             ]
            ],
            "type": "heatmap"
           }
          ],
          "histogram": [
           {
            "marker": {
             "pattern": {
              "fillmode": "overlay",
              "size": 10,
              "solidity": 0.2
             }
            },
            "type": "histogram"
           }
          ],
          "histogram2d": [
           {
            "colorbar": {
             "outlinewidth": 0,
             "ticks": ""
            },
            "colorscale": [
             [
              0,
              "#0d0887"
             ],
             [
              0.1111111111111111,
              "#46039f"
             ],
             [
              0.2222222222222222,
              "#7201a8"
             ],
             [
              0.3333333333333333,
              "#9c179e"
             ],
             [
              0.4444444444444444,
              "#bd3786"
             ],
             [
              0.5555555555555556,
              "#d8576b"
             ],
             [
              0.6666666666666666,
              "#ed7953"
             ],
             [
              0.7777777777777778,
              "#fb9f3a"
             ],
             [
              0.8888888888888888,
              "#fdca26"
             ],
             [
              1,
              "#f0f921"
             ]
            ],
            "type": "histogram2d"
           }
          ],
          "histogram2dcontour": [
           {
            "colorbar": {
             "outlinewidth": 0,
             "ticks": ""
            },
            "colorscale": [
             [
              0,
              "#0d0887"
             ],
             [
              0.1111111111111111,
              "#46039f"
             ],
             [
              0.2222222222222222,
              "#7201a8"
             ],
             [
              0.3333333333333333,
              "#9c179e"
             ],
             [
              0.4444444444444444,
              "#bd3786"
             ],
             [
              0.5555555555555556,
              "#d8576b"
             ],
             [
              0.6666666666666666,
              "#ed7953"
             ],
             [
              0.7777777777777778,
              "#fb9f3a"
             ],
             [
              0.8888888888888888,
              "#fdca26"
             ],
             [
              1,
              "#f0f921"
             ]
            ],
            "type": "histogram2dcontour"
           }
          ],
          "mesh3d": [
           {
            "colorbar": {
             "outlinewidth": 0,
             "ticks": ""
            },
            "type": "mesh3d"
           }
          ],
          "parcoords": [
           {
            "line": {
             "colorbar": {
              "outlinewidth": 0,
              "ticks": ""
             }
            },
            "type": "parcoords"
           }
          ],
          "pie": [
           {
            "automargin": true,
            "type": "pie"
           }
          ],
          "scatter": [
           {
            "fillpattern": {
             "fillmode": "overlay",
             "size": 10,
             "solidity": 0.2
            },
            "type": "scatter"
           }
          ],
          "scatter3d": [
           {
            "line": {
             "colorbar": {
              "outlinewidth": 0,
              "ticks": ""
             }
            },
            "marker": {
             "colorbar": {
              "outlinewidth": 0,
              "ticks": ""
             }
            },
            "type": "scatter3d"
           }
          ],
          "scattercarpet": [
           {
            "marker": {
             "colorbar": {
              "outlinewidth": 0,
              "ticks": ""
             }
            },
            "type": "scattercarpet"
           }
          ],
          "scattergeo": [
           {
            "marker": {
             "colorbar": {
              "outlinewidth": 0,
              "ticks": ""
             }
            },
            "type": "scattergeo"
           }
          ],
          "scattergl": [
           {
            "marker": {
             "colorbar": {
              "outlinewidth": 0,
              "ticks": ""
             }
            },
            "type": "scattergl"
           }
          ],
          "scattermap": [
           {
            "marker": {
             "colorbar": {
              "outlinewidth": 0,
              "ticks": ""
             }
            },
            "type": "scattermap"
           }
          ],
          "scattermapbox": [
           {
            "marker": {
             "colorbar": {
              "outlinewidth": 0,
              "ticks": ""
             }
            },
            "type": "scattermapbox"
           }
          ],
          "scatterpolar": [
           {
            "marker": {
             "colorbar": {
              "outlinewidth": 0,
              "ticks": ""
             }
            },
            "type": "scatterpolar"
           }
          ],
          "scatterpolargl": [
           {
            "marker": {
             "colorbar": {
              "outlinewidth": 0,
              "ticks": ""
             }
            },
            "type": "scatterpolargl"
           }
          ],
          "scatterternary": [
           {
            "marker": {
             "colorbar": {
              "outlinewidth": 0,
              "ticks": ""
             }
            },
            "type": "scatterternary"
           }
          ],
          "surface": [
           {
            "colorbar": {
             "outlinewidth": 0,
             "ticks": ""
            },
            "colorscale": [
             [
              0,
              "#0d0887"
             ],
             [
              0.1111111111111111,
              "#46039f"
             ],
             [
              0.2222222222222222,
              "#7201a8"
             ],
             [
              0.3333333333333333,
              "#9c179e"
             ],
             [
              0.4444444444444444,
              "#bd3786"
             ],
             [
              0.5555555555555556,
              "#d8576b"
             ],
             [
              0.6666666666666666,
              "#ed7953"
             ],
             [
              0.7777777777777778,
              "#fb9f3a"
             ],
             [
              0.8888888888888888,
              "#fdca26"
             ],
             [
              1,
              "#f0f921"
             ]
            ],
            "type": "surface"
           }
          ],
          "table": [
           {
            "cells": {
             "fill": {
              "color": "#EBF0F8"
             },
             "line": {
              "color": "white"
             }
            },
            "header": {
             "fill": {
              "color": "#C8D4E3"
             },
             "line": {
              "color": "white"
             }
            },
            "type": "table"
           }
          ]
         },
         "layout": {
          "annotationdefaults": {
           "arrowcolor": "#2a3f5f",
           "arrowhead": 0,
           "arrowwidth": 1
          },
          "autotypenumbers": "strict",
          "coloraxis": {
           "colorbar": {
            "outlinewidth": 0,
            "ticks": ""
           }
          },
          "colorscale": {
           "diverging": [
            [
             0,
             "#8e0152"
            ],
            [
             0.1,
             "#c51b7d"
            ],
            [
             0.2,
             "#de77ae"
            ],
            [
             0.3,
             "#f1b6da"
            ],
            [
             0.4,
             "#fde0ef"
            ],
            [
             0.5,
             "#f7f7f7"
            ],
            [
             0.6,
             "#e6f5d0"
            ],
            [
             0.7,
             "#b8e186"
            ],
            [
             0.8,
             "#7fbc41"
            ],
            [
             0.9,
             "#4d9221"
            ],
            [
             1,
             "#276419"
            ]
           ],
           "sequential": [
            [
             0,
             "#0d0887"
            ],
            [
             0.1111111111111111,
             "#46039f"
            ],
            [
             0.2222222222222222,
             "#7201a8"
            ],
            [
             0.3333333333333333,
             "#9c179e"
            ],
            [
             0.4444444444444444,
             "#bd3786"
            ],
            [
             0.5555555555555556,
             "#d8576b"
            ],
            [
             0.6666666666666666,
             "#ed7953"
            ],
            [
             0.7777777777777778,
             "#fb9f3a"
            ],
            [
             0.8888888888888888,
             "#fdca26"
            ],
            [
             1,
             "#f0f921"
            ]
           ],
           "sequentialminus": [
            [
             0,
             "#0d0887"
            ],
            [
             0.1111111111111111,
             "#46039f"
            ],
            [
             0.2222222222222222,
             "#7201a8"
            ],
            [
             0.3333333333333333,
             "#9c179e"
            ],
            [
             0.4444444444444444,
             "#bd3786"
            ],
            [
             0.5555555555555556,
             "#d8576b"
            ],
            [
             0.6666666666666666,
             "#ed7953"
            ],
            [
             0.7777777777777778,
             "#fb9f3a"
            ],
            [
             0.8888888888888888,
             "#fdca26"
            ],
            [
             1,
             "#f0f921"
            ]
           ]
          },
          "colorway": [
           "#636efa",
           "#EF553B",
           "#00cc96",
           "#ab63fa",
           "#FFA15A",
           "#19d3f3",
           "#FF6692",
           "#B6E880",
           "#FF97FF",
           "#FECB52"
          ],
          "font": {
           "color": "#2a3f5f"
          },
          "geo": {
           "bgcolor": "white",
           "lakecolor": "white",
           "landcolor": "white",
           "showlakes": true,
           "showland": true,
           "subunitcolor": "#C8D4E3"
          },
          "hoverlabel": {
           "align": "left"
          },
          "hovermode": "closest",
          "mapbox": {
           "style": "light"
          },
          "paper_bgcolor": "white",
          "plot_bgcolor": "white",
          "polar": {
           "angularaxis": {
            "gridcolor": "#EBF0F8",
            "linecolor": "#EBF0F8",
            "ticks": ""
           },
           "bgcolor": "white",
           "radialaxis": {
            "gridcolor": "#EBF0F8",
            "linecolor": "#EBF0F8",
            "ticks": ""
           }
          },
          "scene": {
           "xaxis": {
            "backgroundcolor": "white",
            "gridcolor": "#DFE8F3",
            "gridwidth": 2,
            "linecolor": "#EBF0F8",
            "showbackground": true,
            "ticks": "",
            "zerolinecolor": "#EBF0F8"
           },
           "yaxis": {
            "backgroundcolor": "white",
            "gridcolor": "#DFE8F3",
            "gridwidth": 2,
            "linecolor": "#EBF0F8",
            "showbackground": true,
            "ticks": "",
            "zerolinecolor": "#EBF0F8"
           },
           "zaxis": {
            "backgroundcolor": "white",
            "gridcolor": "#DFE8F3",
            "gridwidth": 2,
            "linecolor": "#EBF0F8",
            "showbackground": true,
            "ticks": "",
            "zerolinecolor": "#EBF0F8"
           }
          },
          "shapedefaults": {
           "line": {
            "color": "#2a3f5f"
           }
          },
          "ternary": {
           "aaxis": {
            "gridcolor": "#DFE8F3",
            "linecolor": "#A2B1C6",
            "ticks": ""
           },
           "baxis": {
            "gridcolor": "#DFE8F3",
            "linecolor": "#A2B1C6",
            "ticks": ""
           },
           "bgcolor": "white",
           "caxis": {
            "gridcolor": "#DFE8F3",
            "linecolor": "#A2B1C6",
            "ticks": ""
           }
          },
          "title": {
           "x": 0.05
          },
          "xaxis": {
           "automargin": true,
           "gridcolor": "#EBF0F8",
           "linecolor": "#EBF0F8",
           "ticks": "",
           "title": {
            "standoff": 15
           },
           "zerolinecolor": "#EBF0F8",
           "zerolinewidth": 2
          },
          "yaxis": {
           "automargin": true,
           "gridcolor": "#EBF0F8",
           "linecolor": "#EBF0F8",
           "ticks": "",
           "title": {
            "standoff": 15
           },
           "zerolinecolor": "#EBF0F8",
           "zerolinewidth": 2
          }
         }
        },
        "title": {
         "text": "The Real Cost: RAM Overhead Factor @ 100M Rows<br><sub>(510 MB file = how much RAM needed?)</sub>"
        },
        "xaxis": {
         "anchor": "y",
         "categoryarray": [
          "Pandas (NumPy)",
          "Pandas + PyArrow",
          "Polars (Rust)"
         ],
         "categoryorder": "array",
         "domain": [
          0,
          1
         ],
         "title": {
          "text": "Engine"
         }
        },
        "yaxis": {
         "anchor": "x",
         "domain": [
          0,
          1
         ],
         "title": {
          "text": "Overhead Factor (RAM/FileSize)"
         }
        }
       }
      }
     },
     "metadata": {},
     "output_type": "display_data"
    }
   ],
   "source": [
    "fact_file = Path('data') / 'fact_content_performance_xlarge.parquet'\n",
    "\n",
    "if fact_file.exists():\n",
    "    file_size_mb = fact_file.stat().st_size / (1024 * 1024)\n",
    "    print(f\"Actual file size: {file_size_mb:.1f} MB\")\n",
    "else:\n",
    "    file_size_mb = 500\n",
    "    print(f\"Using estimated file size: {file_size_mb:.1f} MB\")\n",
    "\n",
    "xlarge_data = combined_df[combined_df['scenario'] == 'xlarge'].copy()\n",
    "xlarge_data['overhead_factor'] = xlarge_data['memory_mb'] / file_size_mb\n",
    "\n",
    "pandas_overhead = xlarge_data[xlarge_data['engine'] == 'Pandas (NumPy)']['overhead_factor'].iloc[0]\n",
    "pandas_memory_gb = xlarge_data[xlarge_data['engine'] == 'Pandas (NumPy)']['memory_mb'].iloc[0] / 1024\n",
    "\n",
    "fig_overhead = px.bar(\n",
    "    xlarge_data,\n",
    "    x='engine',\n",
    "    y='overhead_factor',\n",
    "    title=f'The Real Cost: RAM Overhead Factor @ 100M Rows<br><sub>({file_size_mb:.0f} MB file = how much RAM needed?)</sub>',\n",
    "    labels={'overhead_factor': 'RAM Used ÷ File Size (multiplier)', 'engine': 'Engine'},\n",
    "    color='engine',\n",
    "    color_discrete_map={\n",
    "        'Pandas (NumPy)': '#1f77b4',\n",
    "        'Pandas + PyArrow': '#ff7f0e',\n",
    "        'Polars (Rust)': '#2ca02c'\n",
    "    },\n",
    "    text='overhead_factor',\n",
    "    hover_data={'overhead_factor': ':.1f', 'memory_mb': ':.0f'}\n",
    ")\n",
    "\n",
    "fig_overhead.update_traces(textposition='outside', texttemplate='<b>%{text:.1f}x</b>')\n",
    "\n",
    "fig_overhead.update_layout(\n",
    "    height=700,\n",
    "    template='plotly_white',\n",
    "    font=dict(size=13),\n",
    "    showlegend=False,\n",
    "    hovermode='x unified',\n",
    "    yaxis_title='Overhead Factor (RAM/FileSize)',\n",
    "    margin=dict(t=120)\n",
    ")\n",
    "\n",
    "fig_overhead.add_annotation(\n",
    "    text=f\"<b>Pandas costs {pandas_overhead:.0f}x more memory than the file size.</b><br>For {file_size_mb:.0f} MB data, Pandas needs {pandas_memory_gb:.1f} GB. This forces data center over-provisioning.\",\n",
    "    xref=\"paper\", yref=\"paper\",\n",
    "    x=0.5, y=1.08, showarrow=False,\n",
    "    font=dict(size=13, color='#8B0000'),\n",
    "    bgcolor='rgba(255,220,220,0.9)',\n",
    "    bordercolor='#8B0000',\n",
    "    borderwidth=2,\n",
    "    borderpad=10\n",
    ")\n",
    "\n",
    "fig_overhead.show()"
   ]
  },
  {
   "cell_type": "markdown",
   "metadata": {},
   "source": [
    "## Summary: The Architectural Case for Polars\n",
    "\n",
    "| Metric | Pandas (NumPy) | Pandas+PyArrow | Polars (Rust) |\n",
    "|--------|---|---|---|\n",
    "| **Speed @ 100M** | Baseline | 4.1x faster | **31.1x faster** |\n",
    "| **Memory @ 100M** | 20 GB | 13.6 GB | **30 KB** |\n",
    "| **Overhead Factor** | 40x file size | 27x file size | **~0x file size** |\n",
    "| **Threading Model** | Monothread (GIL) | Monothread (GIL) | **Multithreaded** |\n",
    "| **Execution Model** | Eager | Eager | **Lazy (optimized)** |\n",
    "| **Query Optimization** | None | None | **Predicate Pushdown** |\n",
    "| **Infrastructure Cost** | High over-provisioning | High over-provisioning | **Efficient scaling** |\n",
    "\n",
    "### Bottom Line\n",
    "**Polars isn't just faster—it's architecturally superior for large datasets.** The combination of Rust (no GIL), multithreading, and lazy evaluation with query optimization eliminates the memory wall that defines Pandas' scalability limits."
   ]
  },
  {
   "cell_type": "code",
   "execution_count": 15,
   "metadata": {},
   "outputs": [
    {
     "name": "stdout",
     "output_type": "stream",
     "text": [
      "\n",
      "====================================================================================================\n",
      "PERFORMANCE COMPARISON ACROSS ALL SCENARIOS\n",
      "====================================================================================================\n",
      "\n",
      "### Small (1K) ###\n",
      "  Polars (Rust)        | Time:     0.0s (  1.0x) | Memory:       0 MB (  0.1x file size)\n",
      "  Pandas + PyArrow     | Time:     0.3s (  0.0x) | Memory:      58 MB (5816.9x file size)\n",
      "  Pandas (NumPy)       | Time:     0.5s (  0.0x) | Memory:      58 MB (5830.1x file size)\n",
      "\n",
      "### Medium (1M) ###\n",
      "  Polars (Rust)        | Time:     0.0s (  1.0x) | Memory:       0 MB (  0.0x file size)\n",
      "  Pandas + PyArrow     | Time:     0.9s (  0.1x) | Memory:     211 MB ( 41.6x file size)\n",
      "  Pandas (NumPy)       | Time:     1.6s (  0.0x) | Memory:     253 MB ( 49.8x file size)\n",
      "\n",
      "### Large (10M) ###\n",
      "  Polars (Rust)        | Time:     0.3s (  1.0x) | Memory:       0 MB (  0.0x file size)\n",
      "  Pandas + PyArrow     | Time:     3.9s (  0.1x) | Memory:    1440 MB ( 28.3x file size)\n",
      "  Pandas (NumPy)       | Time:    11.3s (  0.0x) | Memory:    2091 MB ( 41.0x file size)\n",
      "\n",
      "### XLarge (100M) ###\n",
      "  Polars (Rust)        | Time:     5.2s (  1.0x) | Memory:       0 MB (  0.0x file size)\n",
      "  Pandas + PyArrow     | Time:    33.7s (  0.2x) | Memory:   13572 MB ( 26.6x file size)\n",
      "  Pandas (NumPy)       | Time:   162.2s (  0.0x) | Memory:   20317 MB ( 39.8x file size)\n",
      "\n",
      "====================================================================================================\n"
     ]
    }
   ],
   "source": [
    "print(\"\\n\" + \"=\"*100)\n",
    "print(\"PERFORMANCE COMPARISON ACROSS ALL SCENARIOS\")\n",
    "print(\"=\"*100)\n",
    "\n",
    "for scenario in scenario_order:\n",
    "    scenario_data = combined_df[combined_df['scenario'] == scenario].copy()\n",
    "    scenario_label = scenario_map.get(scenario, scenario)\n",
    "    \n",
    "    if scenario_data.empty:\n",
    "        continue\n",
    "    \n",
    "    scenario_data_sorted = scenario_data.sort_values('time_seconds')\n",
    "    \n",
    "    print(f\"\\n### {scenario_label} ###\")\n",
    "    \n",
    "    fastest_time = scenario_data_sorted['time_seconds'].iloc[0]\n",
    "    \n",
    "    for _, row in scenario_data_sorted.iterrows():\n",
    "        speedup = fastest_time / row['time_seconds'] if row['time_seconds'] > 0 else float('inf')\n",
    "        \n",
    "        memory_str = f\"{row['memory_mb']:7.0f} MB\"\n",
    "        \n",
    "        if row['memory_mb'] > 0:\n",
    "            file_scenario = f\"fact_content_performance_{scenario}.parquet\"\n",
    "            fact_file_scenario = Path('data') / file_scenario\n",
    "            if fact_file_scenario.exists():\n",
    "                file_size_mb_scenario = fact_file_scenario.stat().st_size / (1024 * 1024)\n",
    "                overhead = row['memory_mb'] / file_size_mb_scenario\n",
    "                overhead_str = f\"({overhead:5.1f}x file size)\"\n",
    "            else:\n",
    "                overhead_str = \"\"\n",
    "        else:\n",
    "            overhead_str = \"(negligible)\"\n",
    "        \n",
    "        print(f\"  {row['engine']:20} | Time: {row['time_seconds']:7.1f}s ({speedup:5.1f}x) | Memory: {memory_str} {overhead_str}\")\n",
    "\n",
    "print(\"\\n\" + \"=\"*100)"
   ]
  }
 ],
 "metadata": {
  "kernelspec": {
   "display_name": "pybrasil-rs (3.14.0)",
   "language": "python",
   "name": "python3"
  },
  "language_info": {
   "codemirror_mode": {
    "name": "ipython",
    "version": 3
   },
   "file_extension": ".py",
   "mimetype": "text/x-python",
   "name": "python",
   "nbconvert_exporter": "python",
   "pygments_lexer": "ipython3",
   "version": "3.14.0rc3"
  }
 },
 "nbformat": 4,
 "nbformat_minor": 4
}
