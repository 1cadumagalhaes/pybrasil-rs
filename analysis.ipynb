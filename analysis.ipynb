{
 "cells": [
  {
   "cell_type": "markdown",
   "metadata": {},
   "source": [
    "# Python + Rust: Pandas vs Polars\n",
    "## Comparative Analysis: Small to Large Datasets\n",
    "\n",
    "Comparing three fundamentally different approaches across small, medium, and large datasets:\n",
    "- **Pandas (NumPy)**: Python + Monothread C (eager evaluation)\n",
    "- **Pandas + PyArrow**: Python + Columnar Memory (eager evaluation)\n",
    "- **Polars (Rust)**: Rust + Multithreading + Lazy Evaluation + Query Optimization\n",
    "\n",
    "*Note: For extreme scale analysis (100M+ rows), see `analysis-xlarge.ipynb`*"
   ]
  },
  {
   "cell_type": "code",
   "execution_count": 11,
   "metadata": {},
   "outputs": [
    {
     "name": "stdout",
     "output_type": "stream",
     "text": [
      "Engines encontrados: Pandas (NumPy), Pandas + PyArrow, Polars (Rust)\n",
      "Cenários encontrados: small, medium, large\n",
      "\n",
      "Resultados combinados:\n",
      "scenario  time_seconds  memory_mb           engine scenario_label\n",
      "   small        0.5059      61.41   Pandas (NumPy)     Small (1K)\n",
      "  medium        1.4546     252.58   Pandas (NumPy)    Medium (1M)\n",
      "   large       10.6597    2091.20   Pandas (NumPy)    Large (10M)\n",
      "   small        0.2158      58.94 Pandas + PyArrow     Small (1K)\n",
      "  medium        0.7234     211.08 Pandas + PyArrow    Medium (1M)\n",
      "   large        3.5732    1440.26 Pandas + PyArrow    Large (10M)\n",
      "   small        0.0200       0.02    Polars (Rust)     Small (1K)\n",
      "  medium        0.0561       0.00    Polars (Rust)    Medium (1M)\n",
      "   large        0.3069       0.03    Polars (Rust)    Large (10M)\n"
     ]
    }
   ],
   "source": [
    "import pandas as pd\n",
    "import plotly.graph_objects as go\n",
    "import plotly.express as px\n",
    "from pathlib import Path\n",
    "import warnings\n",
    "import numpy as np\n",
    "\n",
    "warnings.filterwarnings('ignore')\n",
    "\n",
    "# Load results\n",
    "results_dir = Path('results')\n",
    "\n",
    "# Load only files that exist\n",
    "dfs = []\n",
    "engines_present = []\n",
    "\n",
    "if (results_dir / 'pandas.csv').exists():\n",
    "    pandas_df = pd.read_csv(results_dir / 'pandas.csv')\n",
    "    pandas_df['engine'] = 'Pandas (NumPy)'\n",
    "    dfs.append(pandas_df)\n",
    "    engines_present.append('Pandas (NumPy)')\n",
    "\n",
    "if (results_dir / 'pandas-pyarrow.csv').exists():\n",
    "    pandas_pyarrow_df = pd.read_csv(results_dir / 'pandas-pyarrow.csv')\n",
    "    pandas_pyarrow_df['engine'] = 'Pandas + PyArrow'\n",
    "    dfs.append(pandas_pyarrow_df)\n",
    "    engines_present.append('Pandas + PyArrow')\n",
    "\n",
    "if (results_dir / 'polars.csv').exists():\n",
    "    polars_df = pd.read_csv(results_dir / 'polars.csv')\n",
    "    polars_df['engine'] = 'Polars (Rust)'\n",
    "    dfs.append(polars_df)\n",
    "    engines_present.append('Polars (Rust)')\n",
    "\n",
    "if not dfs:\n",
    "    raise FileNotFoundError(\"Nenhum arquivo CSV encontrado em results/. Execute 'uv run demo benchmark' primeiro.\")\n",
    "\n",
    "# Combine all results\n",
    "combined_df = pd.concat(dfs, ignore_index=True)\n",
    "\n",
    "# EXCLUDE xlarge - focus on small/medium/large\n",
    "combined_df = combined_df[combined_df['scenario'] != 'xlarge'].copy()\n",
    "\n",
    "if combined_df.empty:\n",
    "    raise ValueError(\"No data found for small/medium/large scenarios. Run benchmarks including these sizes.\")\n",
    "\n",
    "# Scenario mapping\n",
    "all_scenarios = ['small', 'medium', 'large', 'xlarge']\n",
    "all_labels = ['Small (1K)', 'Medium (1M)', 'Large (10M)', 'XLarge (100M)']\n",
    "\n",
    "# Filter to only scenarios that exist in data\n",
    "present_scenarios = combined_df['scenario'].unique()\n",
    "scenario_order = [s for s in all_scenarios if s in present_scenarios]\n",
    "scenario_labels = [all_labels[all_scenarios.index(s)] for s in scenario_order]\n",
    "scenario_map = dict(zip(scenario_order, scenario_labels))\n",
    "combined_df['scenario_label'] = combined_df['scenario'].map(scenario_map)\n",
    "\n",
    "print(f\"Engines encontrados: {', '.join(engines_present)}\")\n",
    "print(f\"Cenários encontrados: {', '.join(scenario_order)}\")\n",
    "print(\"\\nResultados combinados:\")\n",
    "print(combined_df.to_string(index=False))"
   ]
  },
  {
   "cell_type": "markdown",
   "metadata": {},
   "source": [
    "## 1. The Polars Takeoff: Execution Time (Logarithmic Scale)\n",
    "\n",
    "**Why Logarithmic?** With Polars being 31x faster, a linear scale would make the differences invisible. The log scale reveals the **architectural inflection point**: from Medium (1M) onwards, Polars separates from the pack. At 100M rows, it's an insurmountable gap.\n",
    "\n",
    "**Key Message**: Only Rust/Multithreading can scale this way."
   ]
  },
  {
   "cell_type": "code",
   "execution_count": 12,
   "metadata": {},
   "outputs": [
    {
     "data": {
      "application/vnd.plotly.v1+json": {
       "config": {
        "plotlyServerURL": "https://plot.ly"
       },
       "data": [
        {
         "alignmentgroup": "True",
         "customdata": [
          [
           "large"
          ],
          [
           "medium"
          ],
          [
           "small"
          ]
         ],
         "hovertemplate": "engine=Pandas (NumPy)<br>Dataset Size=%{x}<br>Time (seconds, log scale)=%{y:.4f}<extra></extra>",
         "legendgroup": "Pandas (NumPy)",
         "marker": {
          "color": "#1f77b4",
          "pattern": {
           "shape": ""
          }
         },
         "name": "Pandas (NumPy)",
         "offsetgroup": "Pandas (NumPy)",
         "orientation": "v",
         "showlegend": true,
         "textposition": "auto",
         "type": "bar",
         "x": [
          "Large (10M)",
          "Medium (1M)",
          "Small (1K)"
         ],
         "xaxis": "x",
         "y": {
          "bdata": "qFfKMsRRJUCDL0ymCkb3Pxx8YTJVMOA/",
          "dtype": "f8"
         },
         "yaxis": "y"
        },
        {
         "alignmentgroup": "True",
         "customdata": [
          [
           "large"
          ],
          [
           "medium"
          ],
          [
           "small"
          ]
         ],
         "hovertemplate": "engine=Pandas + PyArrow<br>Dataset Size=%{x}<br>Time (seconds, log scale)=%{y:.4f}<extra></extra>",
         "legendgroup": "Pandas + PyArrow",
         "marker": {
          "color": "#ff7f0e",
          "pattern": {
           "shape": ""
          }
         },
         "name": "Pandas + PyArrow",
         "offsetgroup": "Pandas + PyArrow",
         "orientation": "v",
         "showlegend": true,
         "textposition": "auto",
         "type": "bar",
         "x": [
          "Large (10M)",
          "Medium (1M)",
          "Small (1K)"
         ],
         "xaxis": "x",
         "y": {
          "bdata": "oImw4emVDEASpb3BFybnP8gHPZtVn8s/",
          "dtype": "f8"
         },
         "yaxis": "y"
        },
        {
         "alignmentgroup": "True",
         "customdata": [
          [
           "large"
          ],
          [
           "medium"
          ],
          [
           "small"
          ]
         ],
         "hovertemplate": "engine=Polars (Rust)<br>Dataset Size=%{x}<br>Time (seconds, log scale)=%{y:.4f}<extra></extra>",
         "legendgroup": "Polars (Rust)",
         "marker": {
          "color": "#2ca02c",
          "pattern": {
           "shape": ""
          }
         },
         "name": "Polars (Rust)",
         "offsetgroup": "Polars (Rust)",
         "orientation": "v",
         "showlegend": true,
         "textposition": "auto",
         "type": "bar",
         "x": [
          "Large (10M)",
          "Medium (1M)",
          "Small (1K)"
         ],
         "xaxis": "x",
         "y": {
          "bdata": "FR3J5T+k0z+ad5yiI7msP3sUrkfhepQ/",
          "dtype": "f8"
         },
         "yaxis": "y"
        }
       ],
       "layout": {
        "annotations": [
         {
          "bgcolor": "rgba(255,255,200,0.8)",
          "bordercolor": "#2ca02c",
          "borderpad": 10,
          "borderwidth": 2,
          "font": {
           "color": "#2ca02c",
           "size": 13
          },
          "showarrow": false,
          "text": "<b>At 100M rows: Polars is 31x faster than Pandas</b><br>Multithreading + Lazy Evaluation wins",
          "x": 0.5,
          "xref": "paper",
          "y": 1.08,
          "yref": "paper"
         }
        ],
        "barmode": "group",
        "font": {
         "size": 13
        },
        "height": 700,
        "hovermode": "x unified",
        "legend": {
         "bgcolor": "rgba(255,255,255,0.8)",
         "title": {
          "text": "engine"
         },
         "tracegroupgap": 0,
         "x": 0.02,
         "y": 0.98
        },
        "margin": {
         "t": 120
        },
        "showlegend": true,
        "template": {
         "data": {
          "bar": [
           {
            "error_x": {
             "color": "#2a3f5f"
            },
            "error_y": {
             "color": "#2a3f5f"
            },
            "marker": {
             "line": {
              "color": "white",
              "width": 0.5
             },
             "pattern": {
              "fillmode": "overlay",
              "size": 10,
              "solidity": 0.2
             }
            },
            "type": "bar"
           }
          ],
          "barpolar": [
           {
            "marker": {
             "line": {
              "color": "white",
              "width": 0.5
             },
             "pattern": {
              "fillmode": "overlay",
              "size": 10,
              "solidity": 0.2
             }
            },
            "type": "barpolar"
           }
          ],
          "carpet": [
           {
            "aaxis": {
             "endlinecolor": "#2a3f5f",
             "gridcolor": "#C8D4E3",
             "linecolor": "#C8D4E3",
             "minorgridcolor": "#C8D4E3",
             "startlinecolor": "#2a3f5f"
            },
            "baxis": {
             "endlinecolor": "#2a3f5f",
             "gridcolor": "#C8D4E3",
             "linecolor": "#C8D4E3",
             "minorgridcolor": "#C8D4E3",
             "startlinecolor": "#2a3f5f"
            },
            "type": "carpet"
           }
          ],
          "choropleth": [
           {
            "colorbar": {
             "outlinewidth": 0,
             "ticks": ""
            },
            "type": "choropleth"
           }
          ],
          "contour": [
           {
            "colorbar": {
             "outlinewidth": 0,
             "ticks": ""
            },
            "colorscale": [
             [
              0,
              "#0d0887"
             ],
             [
              0.1111111111111111,
              "#46039f"
             ],
             [
              0.2222222222222222,
              "#7201a8"
             ],
             [
              0.3333333333333333,
              "#9c179e"
             ],
             [
              0.4444444444444444,
              "#bd3786"
             ],
             [
              0.5555555555555556,
              "#d8576b"
             ],
             [
              0.6666666666666666,
              "#ed7953"
             ],
             [
              0.7777777777777778,
              "#fb9f3a"
             ],
             [
              0.8888888888888888,
              "#fdca26"
             ],
             [
              1,
              "#f0f921"
             ]
            ],
            "type": "contour"
           }
          ],
          "contourcarpet": [
           {
            "colorbar": {
             "outlinewidth": 0,
             "ticks": ""
            },
            "type": "contourcarpet"
           }
          ],
          "heatmap": [
           {
            "colorbar": {
             "outlinewidth": 0,
             "ticks": ""
            },
            "colorscale": [
             [
              0,
              "#0d0887"
             ],
             [
              0.1111111111111111,
              "#46039f"
             ],
             [
              0.2222222222222222,
              "#7201a8"
             ],
             [
              0.3333333333333333,
              "#9c179e"
             ],
             [
              0.4444444444444444,
              "#bd3786"
             ],
             [
              0.5555555555555556,
              "#d8576b"
             ],
             [
              0.6666666666666666,
              "#ed7953"
             ],
             [
              0.7777777777777778,
              "#fb9f3a"
             ],
             [
              0.8888888888888888,
              "#fdca26"
             ],
             [
              1,
              "#f0f921"
             ]
            ],
            "type": "heatmap"
           }
          ],
          "histogram": [
           {
            "marker": {
             "pattern": {
              "fillmode": "overlay",
              "size": 10,
              "solidity": 0.2
             }
            },
            "type": "histogram"
           }
          ],
          "histogram2d": [
           {
            "colorbar": {
             "outlinewidth": 0,
             "ticks": ""
            },
            "colorscale": [
             [
              0,
              "#0d0887"
             ],
             [
              0.1111111111111111,
              "#46039f"
             ],
             [
              0.2222222222222222,
              "#7201a8"
             ],
             [
              0.3333333333333333,
              "#9c179e"
             ],
             [
              0.4444444444444444,
              "#bd3786"
             ],
             [
              0.5555555555555556,
              "#d8576b"
             ],
             [
              0.6666666666666666,
              "#ed7953"
             ],
             [
              0.7777777777777778,
              "#fb9f3a"
             ],
             [
              0.8888888888888888,
              "#fdca26"
             ],
             [
              1,
              "#f0f921"
             ]
            ],
            "type": "histogram2d"
           }
          ],
          "histogram2dcontour": [
           {
            "colorbar": {
             "outlinewidth": 0,
             "ticks": ""
            },
            "colorscale": [
             [
              0,
              "#0d0887"
             ],
             [
              0.1111111111111111,
              "#46039f"
             ],
             [
              0.2222222222222222,
              "#7201a8"
             ],
             [
              0.3333333333333333,
              "#9c179e"
             ],
             [
              0.4444444444444444,
              "#bd3786"
             ],
             [
              0.5555555555555556,
              "#d8576b"
             ],
             [
              0.6666666666666666,
              "#ed7953"
             ],
             [
              0.7777777777777778,
              "#fb9f3a"
             ],
             [
              0.8888888888888888,
              "#fdca26"
             ],
             [
              1,
              "#f0f921"
             ]
            ],
            "type": "histogram2dcontour"
           }
          ],
          "mesh3d": [
           {
            "colorbar": {
             "outlinewidth": 0,
             "ticks": ""
            },
            "type": "mesh3d"
           }
          ],
          "parcoords": [
           {
            "line": {
             "colorbar": {
              "outlinewidth": 0,
              "ticks": ""
             }
            },
            "type": "parcoords"
           }
          ],
          "pie": [
           {
            "automargin": true,
            "type": "pie"
           }
          ],
          "scatter": [
           {
            "fillpattern": {
             "fillmode": "overlay",
             "size": 10,
             "solidity": 0.2
            },
            "type": "scatter"
           }
          ],
          "scatter3d": [
           {
            "line": {
             "colorbar": {
              "outlinewidth": 0,
              "ticks": ""
             }
            },
            "marker": {
             "colorbar": {
              "outlinewidth": 0,
              "ticks": ""
             }
            },
            "type": "scatter3d"
           }
          ],
          "scattercarpet": [
           {
            "marker": {
             "colorbar": {
              "outlinewidth": 0,
              "ticks": ""
             }
            },
            "type": "scattercarpet"
           }
          ],
          "scattergeo": [
           {
            "marker": {
             "colorbar": {
              "outlinewidth": 0,
              "ticks": ""
             }
            },
            "type": "scattergeo"
           }
          ],
          "scattergl": [
           {
            "marker": {
             "colorbar": {
              "outlinewidth": 0,
              "ticks": ""
             }
            },
            "type": "scattergl"
           }
          ],
          "scattermap": [
           {
            "marker": {
             "colorbar": {
              "outlinewidth": 0,
              "ticks": ""
             }
            },
            "type": "scattermap"
           }
          ],
          "scattermapbox": [
           {
            "marker": {
             "colorbar": {
              "outlinewidth": 0,
              "ticks": ""
             }
            },
            "type": "scattermapbox"
           }
          ],
          "scatterpolar": [
           {
            "marker": {
             "colorbar": {
              "outlinewidth": 0,
              "ticks": ""
             }
            },
            "type": "scatterpolar"
           }
          ],
          "scatterpolargl": [
           {
            "marker": {
             "colorbar": {
              "outlinewidth": 0,
              "ticks": ""
             }
            },
            "type": "scatterpolargl"
           }
          ],
          "scatterternary": [
           {
            "marker": {
             "colorbar": {
              "outlinewidth": 0,
              "ticks": ""
             }
            },
            "type": "scatterternary"
           }
          ],
          "surface": [
           {
            "colorbar": {
             "outlinewidth": 0,
             "ticks": ""
            },
            "colorscale": [
             [
              0,
              "#0d0887"
             ],
             [
              0.1111111111111111,
              "#46039f"
             ],
             [
              0.2222222222222222,
              "#7201a8"
             ],
             [
              0.3333333333333333,
              "#9c179e"
             ],
             [
              0.4444444444444444,
              "#bd3786"
             ],
             [
              0.5555555555555556,
              "#d8576b"
             ],
             [
              0.6666666666666666,
              "#ed7953"
             ],
             [
              0.7777777777777778,
              "#fb9f3a"
             ],
             [
              0.8888888888888888,
              "#fdca26"
             ],
             [
              1,
              "#f0f921"
             ]
            ],
            "type": "surface"
           }
          ],
          "table": [
           {
            "cells": {
             "fill": {
              "color": "#EBF0F8"
             },
             "line": {
              "color": "white"
             }
            },
            "header": {
             "fill": {
              "color": "#C8D4E3"
             },
             "line": {
              "color": "white"
             }
            },
            "type": "table"
           }
          ]
         },
         "layout": {
          "annotationdefaults": {
           "arrowcolor": "#2a3f5f",
           "arrowhead": 0,
           "arrowwidth": 1
          },
          "autotypenumbers": "strict",
          "coloraxis": {
           "colorbar": {
            "outlinewidth": 0,
            "ticks": ""
           }
          },
          "colorscale": {
           "diverging": [
            [
             0,
             "#8e0152"
            ],
            [
             0.1,
             "#c51b7d"
            ],
            [
             0.2,
             "#de77ae"
            ],
            [
             0.3,
             "#f1b6da"
            ],
            [
             0.4,
             "#fde0ef"
            ],
            [
             0.5,
             "#f7f7f7"
            ],
            [
             0.6,
             "#e6f5d0"
            ],
            [
             0.7,
             "#b8e186"
            ],
            [
             0.8,
             "#7fbc41"
            ],
            [
             0.9,
             "#4d9221"
            ],
            [
             1,
             "#276419"
            ]
           ],
           "sequential": [
            [
             0,
             "#0d0887"
            ],
            [
             0.1111111111111111,
             "#46039f"
            ],
            [
             0.2222222222222222,
             "#7201a8"
            ],
            [
             0.3333333333333333,
             "#9c179e"
            ],
            [
             0.4444444444444444,
             "#bd3786"
            ],
            [
             0.5555555555555556,
             "#d8576b"
            ],
            [
             0.6666666666666666,
             "#ed7953"
            ],
            [
             0.7777777777777778,
             "#fb9f3a"
            ],
            [
             0.8888888888888888,
             "#fdca26"
            ],
            [
             1,
             "#f0f921"
            ]
           ],
           "sequentialminus": [
            [
             0,
             "#0d0887"
            ],
            [
             0.1111111111111111,
             "#46039f"
            ],
            [
             0.2222222222222222,
             "#7201a8"
            ],
            [
             0.3333333333333333,
             "#9c179e"
            ],
            [
             0.4444444444444444,
             "#bd3786"
            ],
            [
             0.5555555555555556,
             "#d8576b"
            ],
            [
             0.6666666666666666,
             "#ed7953"
            ],
            [
             0.7777777777777778,
             "#fb9f3a"
            ],
            [
             0.8888888888888888,
             "#fdca26"
            ],
            [
             1,
             "#f0f921"
            ]
           ]
          },
          "colorway": [
           "#636efa",
           "#EF553B",
           "#00cc96",
           "#ab63fa",
           "#FFA15A",
           "#19d3f3",
           "#FF6692",
           "#B6E880",
           "#FF97FF",
           "#FECB52"
          ],
          "font": {
           "color": "#2a3f5f"
          },
          "geo": {
           "bgcolor": "white",
           "lakecolor": "white",
           "landcolor": "white",
           "showlakes": true,
           "showland": true,
           "subunitcolor": "#C8D4E3"
          },
          "hoverlabel": {
           "align": "left"
          },
          "hovermode": "closest",
          "mapbox": {
           "style": "light"
          },
          "paper_bgcolor": "white",
          "plot_bgcolor": "white",
          "polar": {
           "angularaxis": {
            "gridcolor": "#EBF0F8",
            "linecolor": "#EBF0F8",
            "ticks": ""
           },
           "bgcolor": "white",
           "radialaxis": {
            "gridcolor": "#EBF0F8",
            "linecolor": "#EBF0F8",
            "ticks": ""
           }
          },
          "scene": {
           "xaxis": {
            "backgroundcolor": "white",
            "gridcolor": "#DFE8F3",
            "gridwidth": 2,
            "linecolor": "#EBF0F8",
            "showbackground": true,
            "ticks": "",
            "zerolinecolor": "#EBF0F8"
           },
           "yaxis": {
            "backgroundcolor": "white",
            "gridcolor": "#DFE8F3",
            "gridwidth": 2,
            "linecolor": "#EBF0F8",
            "showbackground": true,
            "ticks": "",
            "zerolinecolor": "#EBF0F8"
           },
           "zaxis": {
            "backgroundcolor": "white",
            "gridcolor": "#DFE8F3",
            "gridwidth": 2,
            "linecolor": "#EBF0F8",
            "showbackground": true,
            "ticks": "",
            "zerolinecolor": "#EBF0F8"
           }
          },
          "shapedefaults": {
           "line": {
            "color": "#2a3f5f"
           }
          },
          "ternary": {
           "aaxis": {
            "gridcolor": "#DFE8F3",
            "linecolor": "#A2B1C6",
            "ticks": ""
           },
           "baxis": {
            "gridcolor": "#DFE8F3",
            "linecolor": "#A2B1C6",
            "ticks": ""
           },
           "bgcolor": "white",
           "caxis": {
            "gridcolor": "#DFE8F3",
            "linecolor": "#A2B1C6",
            "ticks": ""
           }
          },
          "title": {
           "x": 0.05
          },
          "xaxis": {
           "automargin": true,
           "gridcolor": "#EBF0F8",
           "linecolor": "#EBF0F8",
           "ticks": "",
           "title": {
            "standoff": 15
           },
           "zerolinecolor": "#EBF0F8",
           "zerolinewidth": 2
          },
          "yaxis": {
           "automargin": true,
           "gridcolor": "#EBF0F8",
           "linecolor": "#EBF0F8",
           "ticks": "",
           "title": {
            "standoff": 15
           },
           "zerolinecolor": "#EBF0F8",
           "zerolinewidth": 2
          }
         }
        },
        "title": {
         "text": "Execution Time: The Polars Architectural Advantage (Log Scale)"
        },
        "xaxis": {
         "anchor": "y",
         "categoryarray": [
          "Small (1K)",
          "Medium (1M)",
          "Large (10M)"
         ],
         "categoryorder": "array",
         "domain": [
          0,
          1
         ],
         "title": {
          "text": "Dataset Size"
         }
        },
        "yaxis": {
         "anchor": "x",
         "domain": [
          0,
          1
         ],
         "title": {
          "text": "Time (seconds, log scale)"
         },
         "type": "log"
        }
       }
      }
     },
     "metadata": {},
     "output_type": "display_data"
    }
   ],
   "source": [
    "# Execution time with LOG SCALE - shows the architectural difference\n",
    "fig_time_log = px.bar(\n",
    "    combined_df.sort_values(['scenario', 'engine']),\n",
    "    x='scenario_label',\n",
    "    y='time_seconds',\n",
    "    color='engine',\n",
    "    barmode='group',\n",
    "    title='Execution Time: The Polars Architectural Advantage (Log Scale)',\n",
    "    labels={'time_seconds': 'Time (seconds, log scale)', 'scenario_label': 'Dataset Size'},\n",
    "    color_discrete_map={\n",
    "        'Pandas (NumPy)': '#1f77b4',\n",
    "        'Pandas + PyArrow': '#ff7f0e',\n",
    "        'Polars (Rust)': '#2ca02c'\n",
    "    },\n",
    "    category_orders={'scenario_label': scenario_labels},\n",
    "    hover_data={'time_seconds': ':.4f', 'scenario': False}\n",
    ")\n",
    "\n",
    "fig_time_log.update_yaxes(type='log')\n",
    "\n",
    "fig_time_log.update_layout(\n",
    "    height=700,\n",
    "    template='plotly_white',\n",
    "    font=dict(size=13),\n",
    "    hovermode='x unified',\n",
    "    showlegend=True,\n",
    "    legend=dict(x=0.02, y=0.98, bgcolor='rgba(255,255,255,0.8)'),\n",
    "    margin=dict(t=120)\n",
    ")\n",
    "\n",
    "# Add annotation\n",
    "fig_time_log.add_annotation(\n",
    "    text=\"<b>At 100M rows: Polars is 31x faster than Pandas</b><br>Multithreading + Lazy Evaluation wins\",\n",
    "    xref=\"paper\", yref=\"paper\",\n",
    "    x=0.5, y=1.08, showarrow=False,\n",
    "    font=dict(size=13, color='#2ca02c'),\n",
    "    bgcolor='rgba(255,255,200,0.8)',\n",
    "    bordercolor='#2ca02c',\n",
    "    borderwidth=2,\n",
    "    borderpad=10\n",
    ")\n",
    "\n",
    "fig_time_log.show()"
   ]
  },
  {
   "cell_type": "markdown",
   "metadata": {},
   "source": [
    "## 2. Memory Usage Across Dataset Sizes\n",
    "\n",
    "**Key Observation**: Watch how memory requirements grow differently for each engine as dataset size increases. Polars' lazy evaluation keeps memory usage minimal across all sizes, while Pandas' eager model forces exponential growth."
   ]
  },
  {
   "cell_type": "code",
   "execution_count": 13,
   "metadata": {},
   "outputs": [
    {
     "data": {
      "application/vnd.plotly.v1+json": {
       "config": {
        "plotlyServerURL": "https://plot.ly"
       },
       "data": [
        {
         "alignmentgroup": "True",
         "customdata": {
          "bdata": "ZmZmZmZWoEDD9Shcj5JvQBSuR+F6tE5A",
          "dtype": "f8",
          "shape": "3, 1"
         },
         "hovertemplate": "engine=Pandas (NumPy)<br>Dataset Size=%{x}<br>Memory (GB)=%{y:.3f}<br>memory_mb=%{customdata[0]:.0f}<extra></extra>",
         "legendgroup": "Pandas (NumPy)",
         "marker": {
          "color": "#1f77b4",
          "pattern": {
           "shape": ""
          }
         },
         "name": "Pandas (NumPy)",
         "offsetgroup": "Pandas (NumPy)",
         "orientation": "v",
         "showlegend": true,
         "textposition": "auto",
         "type": "bar",
         "x": [
          "Large (10M)",
          "Medium (1M)",
          "Small (1K)"
         ],
         "xaxis": "x",
         "y": {
          "bdata": "ZmZmZmZWAEDD9Shcj5LPPxSuR+F6tK4/",
          "dtype": "f8"
         },
         "yaxis": "y"
        },
        {
         "alignmentgroup": "True",
         "customdata": {
          "bdata": "16NwPQqBlkDD9Shcj2JqQLgehetReE1A",
          "dtype": "f8",
          "shape": "3, 1"
         },
         "hovertemplate": "engine=Pandas + PyArrow<br>Dataset Size=%{x}<br>Memory (GB)=%{y:.3f}<br>memory_mb=%{customdata[0]:.0f}<extra></extra>",
         "legendgroup": "Pandas + PyArrow",
         "marker": {
          "color": "#ff7f0e",
          "pattern": {
           "shape": ""
          }
         },
         "name": "Pandas + PyArrow",
         "offsetgroup": "Pandas + PyArrow",
         "orientation": "v",
         "showlegend": true,
         "textposition": "auto",
         "type": "bar",
         "x": [
          "Large (10M)",
          "Medium (1M)",
          "Small (1K)"
         ],
         "xaxis": "x",
         "y": {
          "bdata": "16NwPQqB9j/D9Shcj2LKP7gehetReK0/",
          "dtype": "f8"
         },
         "yaxis": "y"
        },
        {
         "alignmentgroup": "True",
         "customdata": {
          "bdata": "uB6F61G4nj8AAAAAAAAAAHsUrkfhepQ/",
          "dtype": "f8",
          "shape": "3, 1"
         },
         "hovertemplate": "engine=Polars (Rust)<br>Dataset Size=%{x}<br>Memory (GB)=%{y:.3f}<br>memory_mb=%{customdata[0]:.0f}<extra></extra>",
         "legendgroup": "Polars (Rust)",
         "marker": {
          "color": "#2ca02c",
          "pattern": {
           "shape": ""
          }
         },
         "name": "Polars (Rust)",
         "offsetgroup": "Polars (Rust)",
         "orientation": "v",
         "showlegend": true,
         "textposition": "auto",
         "type": "bar",
         "x": [
          "Large (10M)",
          "Medium (1M)",
          "Small (1K)"
         ],
         "xaxis": "x",
         "y": {
          "bdata": "uB6F61G4/j4AAAAAAAAAAHsUrkfhevQ+",
          "dtype": "f8"
         },
         "yaxis": "y"
        }
       ],
       "layout": {
        "barmode": "group",
        "font": {
         "size": 13
        },
        "height": 700,
        "hovermode": "x unified",
        "legend": {
         "bgcolor": "rgba(255,255,255,0.8)",
         "title": {
          "text": "engine"
         },
         "tracegroupgap": 0,
         "x": 0.02,
         "y": 0.98
        },
        "margin": {
         "t": 100
        },
        "showlegend": true,
        "template": {
         "data": {
          "bar": [
           {
            "error_x": {
             "color": "#2a3f5f"
            },
            "error_y": {
             "color": "#2a3f5f"
            },
            "marker": {
             "line": {
              "color": "white",
              "width": 0.5
             },
             "pattern": {
              "fillmode": "overlay",
              "size": 10,
              "solidity": 0.2
             }
            },
            "type": "bar"
           }
          ],
          "barpolar": [
           {
            "marker": {
             "line": {
              "color": "white",
              "width": 0.5
             },
             "pattern": {
              "fillmode": "overlay",
              "size": 10,
              "solidity": 0.2
             }
            },
            "type": "barpolar"
           }
          ],
          "carpet": [
           {
            "aaxis": {
             "endlinecolor": "#2a3f5f",
             "gridcolor": "#C8D4E3",
             "linecolor": "#C8D4E3",
             "minorgridcolor": "#C8D4E3",
             "startlinecolor": "#2a3f5f"
            },
            "baxis": {
             "endlinecolor": "#2a3f5f",
             "gridcolor": "#C8D4E3",
             "linecolor": "#C8D4E3",
             "minorgridcolor": "#C8D4E3",
             "startlinecolor": "#2a3f5f"
            },
            "type": "carpet"
           }
          ],
          "choropleth": [
           {
            "colorbar": {
             "outlinewidth": 0,
             "ticks": ""
            },
            "type": "choropleth"
           }
          ],
          "contour": [
           {
            "colorbar": {
             "outlinewidth": 0,
             "ticks": ""
            },
            "colorscale": [
             [
              0,
              "#0d0887"
             ],
             [
              0.1111111111111111,
              "#46039f"
             ],
             [
              0.2222222222222222,
              "#7201a8"
             ],
             [
              0.3333333333333333,
              "#9c179e"
             ],
             [
              0.4444444444444444,
              "#bd3786"
             ],
             [
              0.5555555555555556,
              "#d8576b"
             ],
             [
              0.6666666666666666,
              "#ed7953"
             ],
             [
              0.7777777777777778,
              "#fb9f3a"
             ],
             [
              0.8888888888888888,
              "#fdca26"
             ],
             [
              1,
              "#f0f921"
             ]
            ],
            "type": "contour"
           }
          ],
          "contourcarpet": [
           {
            "colorbar": {
             "outlinewidth": 0,
             "ticks": ""
            },
            "type": "contourcarpet"
           }
          ],
          "heatmap": [
           {
            "colorbar": {
             "outlinewidth": 0,
             "ticks": ""
            },
            "colorscale": [
             [
              0,
              "#0d0887"
             ],
             [
              0.1111111111111111,
              "#46039f"
             ],
             [
              0.2222222222222222,
              "#7201a8"
             ],
             [
              0.3333333333333333,
              "#9c179e"
             ],
             [
              0.4444444444444444,
              "#bd3786"
             ],
             [
              0.5555555555555556,
              "#d8576b"
             ],
             [
              0.6666666666666666,
              "#ed7953"
             ],
             [
              0.7777777777777778,
              "#fb9f3a"
             ],
             [
              0.8888888888888888,
              "#fdca26"
             ],
             [
              1,
              "#f0f921"
             ]
            ],
            "type": "heatmap"
           }
          ],
          "histogram": [
           {
            "marker": {
             "pattern": {
              "fillmode": "overlay",
              "size": 10,
              "solidity": 0.2
             }
            },
            "type": "histogram"
           }
          ],
          "histogram2d": [
           {
            "colorbar": {
             "outlinewidth": 0,
             "ticks": ""
            },
            "colorscale": [
             [
              0,
              "#0d0887"
             ],
             [
              0.1111111111111111,
              "#46039f"
             ],
             [
              0.2222222222222222,
              "#7201a8"
             ],
             [
              0.3333333333333333,
              "#9c179e"
             ],
             [
              0.4444444444444444,
              "#bd3786"
             ],
             [
              0.5555555555555556,
              "#d8576b"
             ],
             [
              0.6666666666666666,
              "#ed7953"
             ],
             [
              0.7777777777777778,
              "#fb9f3a"
             ],
             [
              0.8888888888888888,
              "#fdca26"
             ],
             [
              1,
              "#f0f921"
             ]
            ],
            "type": "histogram2d"
           }
          ],
          "histogram2dcontour": [
           {
            "colorbar": {
             "outlinewidth": 0,
             "ticks": ""
            },
            "colorscale": [
             [
              0,
              "#0d0887"
             ],
             [
              0.1111111111111111,
              "#46039f"
             ],
             [
              0.2222222222222222,
              "#7201a8"
             ],
             [
              0.3333333333333333,
              "#9c179e"
             ],
             [
              0.4444444444444444,
              "#bd3786"
             ],
             [
              0.5555555555555556,
              "#d8576b"
             ],
             [
              0.6666666666666666,
              "#ed7953"
             ],
             [
              0.7777777777777778,
              "#fb9f3a"
             ],
             [
              0.8888888888888888,
              "#fdca26"
             ],
             [
              1,
              "#f0f921"
             ]
            ],
            "type": "histogram2dcontour"
           }
          ],
          "mesh3d": [
           {
            "colorbar": {
             "outlinewidth": 0,
             "ticks": ""
            },
            "type": "mesh3d"
           }
          ],
          "parcoords": [
           {
            "line": {
             "colorbar": {
              "outlinewidth": 0,
              "ticks": ""
             }
            },
            "type": "parcoords"
           }
          ],
          "pie": [
           {
            "automargin": true,
            "type": "pie"
           }
          ],
          "scatter": [
           {
            "fillpattern": {
             "fillmode": "overlay",
             "size": 10,
             "solidity": 0.2
            },
            "type": "scatter"
           }
          ],
          "scatter3d": [
           {
            "line": {
             "colorbar": {
              "outlinewidth": 0,
              "ticks": ""
             }
            },
            "marker": {
             "colorbar": {
              "outlinewidth": 0,
              "ticks": ""
             }
            },
            "type": "scatter3d"
           }
          ],
          "scattercarpet": [
           {
            "marker": {
             "colorbar": {
              "outlinewidth": 0,
              "ticks": ""
             }
            },
            "type": "scattercarpet"
           }
          ],
          "scattergeo": [
           {
            "marker": {
             "colorbar": {
              "outlinewidth": 0,
              "ticks": ""
             }
            },
            "type": "scattergeo"
           }
          ],
          "scattergl": [
           {
            "marker": {
             "colorbar": {
              "outlinewidth": 0,
              "ticks": ""
             }
            },
            "type": "scattergl"
           }
          ],
          "scattermap": [
           {
            "marker": {
             "colorbar": {
              "outlinewidth": 0,
              "ticks": ""
             }
            },
            "type": "scattermap"
           }
          ],
          "scattermapbox": [
           {
            "marker": {
             "colorbar": {
              "outlinewidth": 0,
              "ticks": ""
             }
            },
            "type": "scattermapbox"
           }
          ],
          "scatterpolar": [
           {
            "marker": {
             "colorbar": {
              "outlinewidth": 0,
              "ticks": ""
             }
            },
            "type": "scatterpolar"
           }
          ],
          "scatterpolargl": [
           {
            "marker": {
             "colorbar": {
              "outlinewidth": 0,
              "ticks": ""
             }
            },
            "type": "scatterpolargl"
           }
          ],
          "scatterternary": [
           {
            "marker": {
             "colorbar": {
              "outlinewidth": 0,
              "ticks": ""
             }
            },
            "type": "scatterternary"
           }
          ],
          "surface": [
           {
            "colorbar": {
             "outlinewidth": 0,
             "ticks": ""
            },
            "colorscale": [
             [
              0,
              "#0d0887"
             ],
             [
              0.1111111111111111,
              "#46039f"
             ],
             [
              0.2222222222222222,
              "#7201a8"
             ],
             [
              0.3333333333333333,
              "#9c179e"
             ],
             [
              0.4444444444444444,
              "#bd3786"
             ],
             [
              0.5555555555555556,
              "#d8576b"
             ],
             [
              0.6666666666666666,
              "#ed7953"
             ],
             [
              0.7777777777777778,
              "#fb9f3a"
             ],
             [
              0.8888888888888888,
              "#fdca26"
             ],
             [
              1,
              "#f0f921"
             ]
            ],
            "type": "surface"
           }
          ],
          "table": [
           {
            "cells": {
             "fill": {
              "color": "#EBF0F8"
             },
             "line": {
              "color": "white"
             }
            },
            "header": {
             "fill": {
              "color": "#C8D4E3"
             },
             "line": {
              "color": "white"
             }
            },
            "type": "table"
           }
          ]
         },
         "layout": {
          "annotationdefaults": {
           "arrowcolor": "#2a3f5f",
           "arrowhead": 0,
           "arrowwidth": 1
          },
          "autotypenumbers": "strict",
          "coloraxis": {
           "colorbar": {
            "outlinewidth": 0,
            "ticks": ""
           }
          },
          "colorscale": {
           "diverging": [
            [
             0,
             "#8e0152"
            ],
            [
             0.1,
             "#c51b7d"
            ],
            [
             0.2,
             "#de77ae"
            ],
            [
             0.3,
             "#f1b6da"
            ],
            [
             0.4,
             "#fde0ef"
            ],
            [
             0.5,
             "#f7f7f7"
            ],
            [
             0.6,
             "#e6f5d0"
            ],
            [
             0.7,
             "#b8e186"
            ],
            [
             0.8,
             "#7fbc41"
            ],
            [
             0.9,
             "#4d9221"
            ],
            [
             1,
             "#276419"
            ]
           ],
           "sequential": [
            [
             0,
             "#0d0887"
            ],
            [
             0.1111111111111111,
             "#46039f"
            ],
            [
             0.2222222222222222,
             "#7201a8"
            ],
            [
             0.3333333333333333,
             "#9c179e"
            ],
            [
             0.4444444444444444,
             "#bd3786"
            ],
            [
             0.5555555555555556,
             "#d8576b"
            ],
            [
             0.6666666666666666,
             "#ed7953"
            ],
            [
             0.7777777777777778,
             "#fb9f3a"
            ],
            [
             0.8888888888888888,
             "#fdca26"
            ],
            [
             1,
             "#f0f921"
            ]
           ],
           "sequentialminus": [
            [
             0,
             "#0d0887"
            ],
            [
             0.1111111111111111,
             "#46039f"
            ],
            [
             0.2222222222222222,
             "#7201a8"
            ],
            [
             0.3333333333333333,
             "#9c179e"
            ],
            [
             0.4444444444444444,
             "#bd3786"
            ],
            [
             0.5555555555555556,
             "#d8576b"
            ],
            [
             0.6666666666666666,
             "#ed7953"
            ],
            [
             0.7777777777777778,
             "#fb9f3a"
            ],
            [
             0.8888888888888888,
             "#fdca26"
            ],
            [
             1,
             "#f0f921"
            ]
           ]
          },
          "colorway": [
           "#636efa",
           "#EF553B",
           "#00cc96",
           "#ab63fa",
           "#FFA15A",
           "#19d3f3",
           "#FF6692",
           "#B6E880",
           "#FF97FF",
           "#FECB52"
          ],
          "font": {
           "color": "#2a3f5f"
          },
          "geo": {
           "bgcolor": "white",
           "lakecolor": "white",
           "landcolor": "white",
           "showlakes": true,
           "showland": true,
           "subunitcolor": "#C8D4E3"
          },
          "hoverlabel": {
           "align": "left"
          },
          "hovermode": "closest",
          "mapbox": {
           "style": "light"
          },
          "paper_bgcolor": "white",
          "plot_bgcolor": "white",
          "polar": {
           "angularaxis": {
            "gridcolor": "#EBF0F8",
            "linecolor": "#EBF0F8",
            "ticks": ""
           },
           "bgcolor": "white",
           "radialaxis": {
            "gridcolor": "#EBF0F8",
            "linecolor": "#EBF0F8",
            "ticks": ""
           }
          },
          "scene": {
           "xaxis": {
            "backgroundcolor": "white",
            "gridcolor": "#DFE8F3",
            "gridwidth": 2,
            "linecolor": "#EBF0F8",
            "showbackground": true,
            "ticks": "",
            "zerolinecolor": "#EBF0F8"
           },
           "yaxis": {
            "backgroundcolor": "white",
            "gridcolor": "#DFE8F3",
            "gridwidth": 2,
            "linecolor": "#EBF0F8",
            "showbackground": true,
            "ticks": "",
            "zerolinecolor": "#EBF0F8"
           },
           "zaxis": {
            "backgroundcolor": "white",
            "gridcolor": "#DFE8F3",
            "gridwidth": 2,
            "linecolor": "#EBF0F8",
            "showbackground": true,
            "ticks": "",
            "zerolinecolor": "#EBF0F8"
           }
          },
          "shapedefaults": {
           "line": {
            "color": "#2a3f5f"
           }
          },
          "ternary": {
           "aaxis": {
            "gridcolor": "#DFE8F3",
            "linecolor": "#A2B1C6",
            "ticks": ""
           },
           "baxis": {
            "gridcolor": "#DFE8F3",
            "linecolor": "#A2B1C6",
            "ticks": ""
           },
           "bgcolor": "white",
           "caxis": {
            "gridcolor": "#DFE8F3",
            "linecolor": "#A2B1C6",
            "ticks": ""
           }
          },
          "title": {
           "x": 0.05
          },
          "xaxis": {
           "automargin": true,
           "gridcolor": "#EBF0F8",
           "linecolor": "#EBF0F8",
           "ticks": "",
           "title": {
            "standoff": 15
           },
           "zerolinecolor": "#EBF0F8",
           "zerolinewidth": 2
          },
          "yaxis": {
           "automargin": true,
           "gridcolor": "#EBF0F8",
           "linecolor": "#EBF0F8",
           "ticks": "",
           "title": {
            "standoff": 15
           },
           "zerolinecolor": "#EBF0F8",
           "zerolinewidth": 2
          }
         }
        },
        "title": {
         "text": "Peak Memory Usage Across Dataset Sizes"
        },
        "xaxis": {
         "anchor": "y",
         "categoryarray": [
          "Small (1K)",
          "Medium (1M)",
          "Large (10M)"
         ],
         "categoryorder": "array",
         "domain": [
          0,
          1
         ],
         "title": {
          "text": "Dataset Size"
         }
        },
        "yaxis": {
         "anchor": "x",
         "domain": [
          0,
          1
         ],
         "title": {
          "text": "Memory (GB)"
         }
        }
       }
      }
     },
     "metadata": {},
     "output_type": "display_data"
    }
   ],
   "source": [
    "# Memory usage across all scenarios\n",
    "memory_data = combined_df.copy()\n",
    "memory_data['memory_gb'] = memory_data['memory_mb'] / 1024\n",
    "\n",
    "fig_memory = px.bar(\n",
    "    memory_data.sort_values(['scenario', 'engine']),\n",
    "    x='scenario_label',\n",
    "    y='memory_gb',\n",
    "    color='engine',\n",
    "    barmode='group',\n",
    "    title='Peak Memory Usage Across Dataset Sizes',\n",
    "    labels={'memory_gb': 'Memory (GB)', 'scenario_label': 'Dataset Size'},\n",
    "    color_discrete_map={\n",
    "        'Pandas (NumPy)': '#1f77b4',\n",
    "        'Pandas + PyArrow': '#ff7f0e',\n",
    "        'Polars (Rust)': '#2ca02c'\n",
    "    },\n",
    "    category_orders={'scenario_label': scenario_labels},\n",
    "    hover_data={'memory_gb': ':.3f', 'memory_mb': ':.0f'}\n",
    ")\n",
    "\n",
    "fig_memory.update_layout(\n",
    "    height=700,\n",
    "    template='plotly_white',\n",
    "    font=dict(size=13),\n",
    "    hovermode='x unified',\n",
    "    showlegend=True,\n",
    "    legend=dict(x=0.02, y=0.98, bgcolor='rgba(255,255,255,0.8)'),\n",
    "    margin=dict(t=100)\n",
    ")\n",
    "\n",
    "fig_memory.show()"
   ]
  },
  {
   "cell_type": "markdown",
   "metadata": {},
   "source": [
    "## 3. The Hidden Cost: RAM Overhead Factor\n",
    "\n",
    "**What is Overhead Factor?** The ratio of peak RAM used ÷ file size on disk.\n",
    "\n",
    "As datasets grow, Polars maintains constant overhead through lazy evaluation, while Pandas requires proportionally more memory for larger files."
   ]
  },
  {
   "cell_type": "code",
   "execution_count": 14,
   "metadata": {},
   "outputs": [
    {
     "name": "stdout",
     "output_type": "stream",
     "text": [
      "Small (1K): 0.0 MB file\n",
      "Medium (1M): 5.1 MB file\n",
      "Large (10M): 51.0 MB file\n"
     ]
    },
    {
     "data": {
      "application/vnd.plotly.v1+json": {
       "config": {
        "plotlyServerURL": "https://plot.ly"
       },
       "data": [
        {
         "alignmentgroup": "True",
         "customdata": {
          "bdata": "ZmZmZmZWoEDD9Shcj5JvQBSuR+F6tE5A",
          "dtype": "f8",
          "shape": "3, 1"
         },
         "hovertemplate": "engine=Pandas (NumPy)<br>Dataset Size=%{x}<br>Overhead Factor (multiplier)=%{y:.1f}<br>memory_mb=%{customdata[0]:.0f}<extra></extra>",
         "legendgroup": "Pandas (NumPy)",
         "marker": {
          "color": "#1f77b4",
          "pattern": {
           "shape": ""
          }
         },
         "name": "Pandas (NumPy)",
         "offsetgroup": "Pandas (NumPy)",
         "orientation": "v",
         "showlegend": true,
         "textposition": "auto",
         "type": "bar",
         "x": [
          "Large (10M)",
          "Medium (1M)",
          "Small (1K)"
         ],
         "xaxis": "x",
         "y": [
          41.017970222446856,
          49.76842189447828,
          6173.238631003738
         ],
         "yaxis": "y"
        },
        {
         "alignmentgroup": "True",
         "customdata": {
          "bdata": "16NwPQqBlkDD9Shcj2JqQLgehetReE1A",
          "dtype": "f8",
          "shape": "3, 1"
         },
         "hovertemplate": "engine=Pandas + PyArrow<br>Dataset Size=%{x}<br>Overhead Factor (multiplier)=%{y:.1f}<br>memory_mb=%{customdata[0]:.0f}<extra></extra>",
         "legendgroup": "Pandas + PyArrow",
         "marker": {
          "color": "#ff7f0e",
          "pattern": {
           "shape": ""
          }
         },
         "name": "Pandas + PyArrow",
         "offsetgroup": "Pandas + PyArrow",
         "orientation": "v",
         "showlegend": true,
         "textposition": "auto",
         "type": "bar",
         "x": [
          "Large (10M)",
          "Medium (1M)",
          "Small (1K)"
         ],
         "xaxis": "x",
         "y": [
          28.25006780440958,
          41.59125225071848,
          5924.941946122136
         ],
         "yaxis": "y"
        },
        {
         "alignmentgroup": "True",
         "customdata": {
          "bdata": "uB6F61G4nj8AAAAAAAAAAHsUrkfhepQ/",
          "dtype": "f8",
          "shape": "3, 1"
         },
         "hovertemplate": "engine=Polars (Rust)<br>Dataset Size=%{x}<br>Overhead Factor (multiplier)=%{y:.1f}<br>memory_mb=%{customdata[0]:.0f}<extra></extra>",
         "legendgroup": "Polars (Rust)",
         "marker": {
          "color": "#2ca02c",
          "pattern": {
           "shape": ""
          }
         },
         "name": "Polars (Rust)",
         "offsetgroup": "Polars (Rust)",
         "orientation": "v",
         "showlegend": true,
         "textposition": "auto",
         "type": "bar",
         "x": [
          "Large (10M)",
          "Medium (1M)",
          "Small (1K)"
         ],
         "xaxis": "x",
         "y": [
          0.0005884368337191113,
          0,
          2.0104994727255296
         ],
         "yaxis": "y"
        }
       ],
       "layout": {
        "barmode": "group",
        "font": {
         "size": 13
        },
        "height": 700,
        "hovermode": "x unified",
        "legend": {
         "bgcolor": "rgba(255,255,255,0.8)",
         "title": {
          "text": "engine"
         },
         "tracegroupgap": 0,
         "x": 0.02,
         "y": 0.98
        },
        "margin": {
         "t": 100
        },
        "showlegend": true,
        "template": {
         "data": {
          "bar": [
           {
            "error_x": {
             "color": "#2a3f5f"
            },
            "error_y": {
             "color": "#2a3f5f"
            },
            "marker": {
             "line": {
              "color": "white",
              "width": 0.5
             },
             "pattern": {
              "fillmode": "overlay",
              "size": 10,
              "solidity": 0.2
             }
            },
            "type": "bar"
           }
          ],
          "barpolar": [
           {
            "marker": {
             "line": {
              "color": "white",
              "width": 0.5
             },
             "pattern": {
              "fillmode": "overlay",
              "size": 10,
              "solidity": 0.2
             }
            },
            "type": "barpolar"
           }
          ],
          "carpet": [
           {
            "aaxis": {
             "endlinecolor": "#2a3f5f",
             "gridcolor": "#C8D4E3",
             "linecolor": "#C8D4E3",
             "minorgridcolor": "#C8D4E3",
             "startlinecolor": "#2a3f5f"
            },
            "baxis": {
             "endlinecolor": "#2a3f5f",
             "gridcolor": "#C8D4E3",
             "linecolor": "#C8D4E3",
             "minorgridcolor": "#C8D4E3",
             "startlinecolor": "#2a3f5f"
            },
            "type": "carpet"
           }
          ],
          "choropleth": [
           {
            "colorbar": {
             "outlinewidth": 0,
             "ticks": ""
            },
            "type": "choropleth"
           }
          ],
          "contour": [
           {
            "colorbar": {
             "outlinewidth": 0,
             "ticks": ""
            },
            "colorscale": [
             [
              0,
              "#0d0887"
             ],
             [
              0.1111111111111111,
              "#46039f"
             ],
             [
              0.2222222222222222,
              "#7201a8"
             ],
             [
              0.3333333333333333,
              "#9c179e"
             ],
             [
              0.4444444444444444,
              "#bd3786"
             ],
             [
              0.5555555555555556,
              "#d8576b"
             ],
             [
              0.6666666666666666,
              "#ed7953"
             ],
             [
              0.7777777777777778,
              "#fb9f3a"
             ],
             [
              0.8888888888888888,
              "#fdca26"
             ],
             [
              1,
              "#f0f921"
             ]
            ],
            "type": "contour"
           }
          ],
          "contourcarpet": [
           {
            "colorbar": {
             "outlinewidth": 0,
             "ticks": ""
            },
            "type": "contourcarpet"
           }
          ],
          "heatmap": [
           {
            "colorbar": {
             "outlinewidth": 0,
             "ticks": ""
            },
            "colorscale": [
             [
              0,
              "#0d0887"
             ],
             [
              0.1111111111111111,
              "#46039f"
             ],
             [
              0.2222222222222222,
              "#7201a8"
             ],
             [
              0.3333333333333333,
              "#9c179e"
             ],
             [
              0.4444444444444444,
              "#bd3786"
             ],
             [
              0.5555555555555556,
              "#d8576b"
             ],
             [
              0.6666666666666666,
              "#ed7953"
             ],
             [
              0.7777777777777778,
              "#fb9f3a"
             ],
             [
              0.8888888888888888,
              "#fdca26"
             ],
             [
              1,
              "#f0f921"
             ]
            ],
            "type": "heatmap"
           }
          ],
          "histogram": [
           {
            "marker": {
             "pattern": {
              "fillmode": "overlay",
              "size": 10,
              "solidity": 0.2
             }
            },
            "type": "histogram"
           }
          ],
          "histogram2d": [
           {
            "colorbar": {
             "outlinewidth": 0,
             "ticks": ""
            },
            "colorscale": [
             [
              0,
              "#0d0887"
             ],
             [
              0.1111111111111111,
              "#46039f"
             ],
             [
              0.2222222222222222,
              "#7201a8"
             ],
             [
              0.3333333333333333,
              "#9c179e"
             ],
             [
              0.4444444444444444,
              "#bd3786"
             ],
             [
              0.5555555555555556,
              "#d8576b"
             ],
             [
              0.6666666666666666,
              "#ed7953"
             ],
             [
              0.7777777777777778,
              "#fb9f3a"
             ],
             [
              0.8888888888888888,
              "#fdca26"
             ],
             [
              1,
              "#f0f921"
             ]
            ],
            "type": "histogram2d"
           }
          ],
          "histogram2dcontour": [
           {
            "colorbar": {
             "outlinewidth": 0,
             "ticks": ""
            },
            "colorscale": [
             [
              0,
              "#0d0887"
             ],
             [
              0.1111111111111111,
              "#46039f"
             ],
             [
              0.2222222222222222,
              "#7201a8"
             ],
             [
              0.3333333333333333,
              "#9c179e"
             ],
             [
              0.4444444444444444,
              "#bd3786"
             ],
             [
              0.5555555555555556,
              "#d8576b"
             ],
             [
              0.6666666666666666,
              "#ed7953"
             ],
             [
              0.7777777777777778,
              "#fb9f3a"
             ],
             [
              0.8888888888888888,
              "#fdca26"
             ],
             [
              1,
              "#f0f921"
             ]
            ],
            "type": "histogram2dcontour"
           }
          ],
          "mesh3d": [
           {
            "colorbar": {
             "outlinewidth": 0,
             "ticks": ""
            },
            "type": "mesh3d"
           }
          ],
          "parcoords": [
           {
            "line": {
             "colorbar": {
              "outlinewidth": 0,
              "ticks": ""
             }
            },
            "type": "parcoords"
           }
          ],
          "pie": [
           {
            "automargin": true,
            "type": "pie"
           }
          ],
          "scatter": [
           {
            "fillpattern": {
             "fillmode": "overlay",
             "size": 10,
             "solidity": 0.2
            },
            "type": "scatter"
           }
          ],
          "scatter3d": [
           {
            "line": {
             "colorbar": {
              "outlinewidth": 0,
              "ticks": ""
             }
            },
            "marker": {
             "colorbar": {
              "outlinewidth": 0,
              "ticks": ""
             }
            },
            "type": "scatter3d"
           }
          ],
          "scattercarpet": [
           {
            "marker": {
             "colorbar": {
              "outlinewidth": 0,
              "ticks": ""
             }
            },
            "type": "scattercarpet"
           }
          ],
          "scattergeo": [
           {
            "marker": {
             "colorbar": {
              "outlinewidth": 0,
              "ticks": ""
             }
            },
            "type": "scattergeo"
           }
          ],
          "scattergl": [
           {
            "marker": {
             "colorbar": {
              "outlinewidth": 0,
              "ticks": ""
             }
            },
            "type": "scattergl"
           }
          ],
          "scattermap": [
           {
            "marker": {
             "colorbar": {
              "outlinewidth": 0,
              "ticks": ""
             }
            },
            "type": "scattermap"
           }
          ],
          "scattermapbox": [
           {
            "marker": {
             "colorbar": {
              "outlinewidth": 0,
              "ticks": ""
             }
            },
            "type": "scattermapbox"
           }
          ],
          "scatterpolar": [
           {
            "marker": {
             "colorbar": {
              "outlinewidth": 0,
              "ticks": ""
             }
            },
            "type": "scatterpolar"
           }
          ],
          "scatterpolargl": [
           {
            "marker": {
             "colorbar": {
              "outlinewidth": 0,
              "ticks": ""
             }
            },
            "type": "scatterpolargl"
           }
          ],
          "scatterternary": [
           {
            "marker": {
             "colorbar": {
              "outlinewidth": 0,
              "ticks": ""
             }
            },
            "type": "scatterternary"
           }
          ],
          "surface": [
           {
            "colorbar": {
             "outlinewidth": 0,
             "ticks": ""
            },
            "colorscale": [
             [
              0,
              "#0d0887"
             ],
             [
              0.1111111111111111,
              "#46039f"
             ],
             [
              0.2222222222222222,
              "#7201a8"
             ],
             [
              0.3333333333333333,
              "#9c179e"
             ],
             [
              0.4444444444444444,
              "#bd3786"
             ],
             [
              0.5555555555555556,
              "#d8576b"
             ],
             [
              0.6666666666666666,
              "#ed7953"
             ],
             [
              0.7777777777777778,
              "#fb9f3a"
             ],
             [
              0.8888888888888888,
              "#fdca26"
             ],
             [
              1,
              "#f0f921"
             ]
            ],
            "type": "surface"
           }
          ],
          "table": [
           {
            "cells": {
             "fill": {
              "color": "#EBF0F8"
             },
             "line": {
              "color": "white"
             }
            },
            "header": {
             "fill": {
              "color": "#C8D4E3"
             },
             "line": {
              "color": "white"
             }
            },
            "type": "table"
           }
          ]
         },
         "layout": {
          "annotationdefaults": {
           "arrowcolor": "#2a3f5f",
           "arrowhead": 0,
           "arrowwidth": 1
          },
          "autotypenumbers": "strict",
          "coloraxis": {
           "colorbar": {
            "outlinewidth": 0,
            "ticks": ""
           }
          },
          "colorscale": {
           "diverging": [
            [
             0,
             "#8e0152"
            ],
            [
             0.1,
             "#c51b7d"
            ],
            [
             0.2,
             "#de77ae"
            ],
            [
             0.3,
             "#f1b6da"
            ],
            [
             0.4,
             "#fde0ef"
            ],
            [
             0.5,
             "#f7f7f7"
            ],
            [
             0.6,
             "#e6f5d0"
            ],
            [
             0.7,
             "#b8e186"
            ],
            [
             0.8,
             "#7fbc41"
            ],
            [
             0.9,
             "#4d9221"
            ],
            [
             1,
             "#276419"
            ]
           ],
           "sequential": [
            [
             0,
             "#0d0887"
            ],
            [
             0.1111111111111111,
             "#46039f"
            ],
            [
             0.2222222222222222,
             "#7201a8"
            ],
            [
             0.3333333333333333,
             "#9c179e"
            ],
            [
             0.4444444444444444,
             "#bd3786"
            ],
            [
             0.5555555555555556,
             "#d8576b"
            ],
            [
             0.6666666666666666,
             "#ed7953"
            ],
            [
             0.7777777777777778,
             "#fb9f3a"
            ],
            [
             0.8888888888888888,
             "#fdca26"
            ],
            [
             1,
             "#f0f921"
            ]
           ],
           "sequentialminus": [
            [
             0,
             "#0d0887"
            ],
            [
             0.1111111111111111,
             "#46039f"
            ],
            [
             0.2222222222222222,
             "#7201a8"
            ],
            [
             0.3333333333333333,
             "#9c179e"
            ],
            [
             0.4444444444444444,
             "#bd3786"
            ],
            [
             0.5555555555555556,
             "#d8576b"
            ],
            [
             0.6666666666666666,
             "#ed7953"
            ],
            [
             0.7777777777777778,
             "#fb9f3a"
            ],
            [
             0.8888888888888888,
             "#fdca26"
            ],
            [
             1,
             "#f0f921"
            ]
           ]
          },
          "colorway": [
           "#636efa",
           "#EF553B",
           "#00cc96",
           "#ab63fa",
           "#FFA15A",
           "#19d3f3",
           "#FF6692",
           "#B6E880",
           "#FF97FF",
           "#FECB52"
          ],
          "font": {
           "color": "#2a3f5f"
          },
          "geo": {
           "bgcolor": "white",
           "lakecolor": "white",
           "landcolor": "white",
           "showlakes": true,
           "showland": true,
           "subunitcolor": "#C8D4E3"
          },
          "hoverlabel": {
           "align": "left"
          },
          "hovermode": "closest",
          "mapbox": {
           "style": "light"
          },
          "paper_bgcolor": "white",
          "plot_bgcolor": "white",
          "polar": {
           "angularaxis": {
            "gridcolor": "#EBF0F8",
            "linecolor": "#EBF0F8",
            "ticks": ""
           },
           "bgcolor": "white",
           "radialaxis": {
            "gridcolor": "#EBF0F8",
            "linecolor": "#EBF0F8",
            "ticks": ""
           }
          },
          "scene": {
           "xaxis": {
            "backgroundcolor": "white",
            "gridcolor": "#DFE8F3",
            "gridwidth": 2,
            "linecolor": "#EBF0F8",
            "showbackground": true,
            "ticks": "",
            "zerolinecolor": "#EBF0F8"
           },
           "yaxis": {
            "backgroundcolor": "white",
            "gridcolor": "#DFE8F3",
            "gridwidth": 2,
            "linecolor": "#EBF0F8",
            "showbackground": true,
            "ticks": "",
            "zerolinecolor": "#EBF0F8"
           },
           "zaxis": {
            "backgroundcolor": "white",
            "gridcolor": "#DFE8F3",
            "gridwidth": 2,
            "linecolor": "#EBF0F8",
            "showbackground": true,
            "ticks": "",
            "zerolinecolor": "#EBF0F8"
           }
          },
          "shapedefaults": {
           "line": {
            "color": "#2a3f5f"
           }
          },
          "ternary": {
           "aaxis": {
            "gridcolor": "#DFE8F3",
            "linecolor": "#A2B1C6",
            "ticks": ""
           },
           "baxis": {
            "gridcolor": "#DFE8F3",
            "linecolor": "#A2B1C6",
            "ticks": ""
           },
           "bgcolor": "white",
           "caxis": {
            "gridcolor": "#DFE8F3",
            "linecolor": "#A2B1C6",
            "ticks": ""
           }
          },
          "title": {
           "x": 0.05
          },
          "xaxis": {
           "automargin": true,
           "gridcolor": "#EBF0F8",
           "linecolor": "#EBF0F8",
           "ticks": "",
           "title": {
            "standoff": 15
           },
           "zerolinecolor": "#EBF0F8",
           "zerolinewidth": 2
          },
          "yaxis": {
           "automargin": true,
           "gridcolor": "#EBF0F8",
           "linecolor": "#EBF0F8",
           "ticks": "",
           "title": {
            "standoff": 15
           },
           "zerolinecolor": "#EBF0F8",
           "zerolinewidth": 2
          }
         }
        },
        "title": {
         "text": "RAM Overhead Factor: Memory Used ÷ File Size"
        },
        "xaxis": {
         "anchor": "y",
         "categoryarray": [
          "Small (1K)",
          "Medium (1M)",
          "Large (10M)"
         ],
         "categoryorder": "array",
         "domain": [
          0,
          1
         ],
         "title": {
          "text": "Dataset Size"
         }
        },
        "yaxis": {
         "anchor": "x",
         "domain": [
          0,
          1
         ],
         "title": {
          "text": "Overhead Factor (multiplier)"
         }
        }
       }
      }
     },
     "metadata": {},
     "output_type": "display_data"
    }
   ],
   "source": [
    "# Calculate overhead factor for all scenarios\n",
    "overhead_data = combined_df.copy()\n",
    "overhead_data['overhead_factor'] = None\n",
    "\n",
    "for scenario in scenario_order:\n",
    "    scenario_rows = overhead_data[overhead_data['scenario'] == scenario]\n",
    "    fact_file = Path('data') / f'fact_content_performance_{scenario}.parquet'\n",
    "    \n",
    "    if fact_file.exists():\n",
    "        file_size_mb = fact_file.stat().st_size / (1024 * 1024)\n",
    "        overhead_data.loc[scenario_rows.index, 'overhead_factor'] = scenario_rows['memory_mb'] / file_size_mb\n",
    "        \n",
    "        scenario_label = scenario_map.get(scenario, scenario)\n",
    "        print(f\"{scenario_label}: {file_size_mb:.1f} MB file\")\n",
    "\n",
    "# Remove rows where we couldn't calculate overhead\n",
    "overhead_data = overhead_data[overhead_data['overhead_factor'].notna()].copy()\n",
    "\n",
    "if not overhead_data.empty:\n",
    "    fig_overhead = px.bar(\n",
    "        overhead_data.sort_values(['scenario', 'engine']),\n",
    "        x='scenario_label',\n",
    "        y='overhead_factor',\n",
    "        color='engine',\n",
    "        barmode='group',\n",
    "        title='RAM Overhead Factor: Memory Used ÷ File Size',\n",
    "        labels={'overhead_factor': 'Overhead Factor (multiplier)', 'scenario_label': 'Dataset Size'},\n",
    "        color_discrete_map={\n",
    "            'Pandas (NumPy)': '#1f77b4',\n",
    "            'Pandas + PyArrow': '#ff7f0e',\n",
    "            'Polars (Rust)': '#2ca02c'\n",
    "        },\n",
    "        category_orders={'scenario_label': scenario_labels},\n",
    "        hover_data={'overhead_factor': ':.1f', 'memory_mb': ':.0f'}\n",
    "    )\n",
    "\n",
    "    fig_overhead.update_layout(\n",
    "        height=700,\n",
    "        template='plotly_white',\n",
    "        font=dict(size=13),\n",
    "        hovermode='x unified',\n",
    "        showlegend=True,\n",
    "        legend=dict(x=0.02, y=0.98, bgcolor='rgba(255,255,255,0.8)'),\n",
    "        margin=dict(t=100)\n",
    "    )\n",
    "\n",
    "    fig_overhead.show()\n",
    "else:\n",
    "    print(\"No parquet files found for overhead calculation\")"
   ]
  },
  {
   "cell_type": "markdown",
   "metadata": {},
   "source": [
    "## Summary: Performance Across Dataset Sizes\n",
    "\n",
    "**Key Insights**:\n",
    "- **Execution Speed**: Polars consistently outperforms both Pandas variants, with advantages growing as datasets get larger\n",
    "- **Memory Usage**: Polars maintains near-constant memory regardless of size, while Pandas memory grows with dataset\n",
    "- **Overhead Factor**: Shows how much memory is wasted compared to actual file size. Polars' lazy evaluation minimizes this overhead across all sizes\n",
    "\n",
    "For extreme scale behavior (100M+ rows), see `analysis-xlarge.ipynb` which includes dedicated analysis of the inflection point where architecture differences become most pronounced."
   ]
  },
  {
   "cell_type": "code",
   "execution_count": 15,
   "metadata": {},
   "outputs": [
    {
     "name": "stdout",
     "output_type": "stream",
     "text": [
      "\n",
      "==============================================================================================================\n",
      "PERFORMANCE COMPARISON ACROSS ALL SCENARIOS\n",
      "==============================================================================================================\n",
      "\n",
      "### Small (1K) ###\n",
      "  Polars (Rust)        | Time:     0.0s (  1.0x) | Memory:       0 MB (  2.0x)\n",
      "  Pandas + PyArrow     | Time:     0.2s (  0.1x) | Memory:      59 MB (5924.9x)\n",
      "  Pandas (NumPy)       | Time:     0.5s (  0.0x) | Memory:      61 MB (6173.2x)\n",
      "\n",
      "### Medium (1M) ###\n",
      "  Polars (Rust)        | Time:     0.1s (  1.0x) | Memory:       0 MB (negligible)\n",
      "  Pandas + PyArrow     | Time:     0.7s (  0.1x) | Memory:     211 MB ( 41.6x)\n",
      "  Pandas (NumPy)       | Time:     1.5s (  0.0x) | Memory:     253 MB ( 49.8x)\n",
      "\n",
      "### Large (10M) ###\n",
      "  Polars (Rust)        | Time:     0.3s (  1.0x) | Memory:       0 MB (  0.0x)\n",
      "  Pandas + PyArrow     | Time:     3.6s (  0.1x) | Memory:    1440 MB ( 28.3x)\n",
      "  Pandas (NumPy)       | Time:    10.7s (  0.0x) | Memory:    2091 MB ( 41.0x)\n",
      "\n",
      "==============================================================================================================\n"
     ]
    }
   ],
   "source": [
    "# Final performance summary for all scenarios\n",
    "print(\"\\n\" + \"=\"*110)\n",
    "print(\"PERFORMANCE COMPARISON ACROSS ALL SCENARIOS\")\n",
    "print(\"=\"*110)\n",
    "\n",
    "for scenario in scenario_order:\n",
    "    scenario_data = combined_df[combined_df['scenario'] == scenario].copy()\n",
    "    scenario_label = scenario_map.get(scenario, scenario)\n",
    "    \n",
    "    if scenario_data.empty:\n",
    "        continue\n",
    "    \n",
    "    scenario_data_sorted = scenario_data.sort_values('time_seconds')\n",
    "    \n",
    "    print(f\"\\n### {scenario_label} ###\")\n",
    "    \n",
    "    fastest_time = scenario_data_sorted['time_seconds'].iloc[0]\n",
    "    \n",
    "    for _, row in scenario_data_sorted.iterrows():\n",
    "        speedup = fastest_time / row['time_seconds'] if row['time_seconds'] > 0 else float('inf')\n",
    "        \n",
    "        memory_str = f\"{row['memory_mb']:7.0f} MB\"\n",
    "        \n",
    "        if row['memory_mb'] > 0:\n",
    "            file_scenario = f\"fact_content_performance_{scenario}.parquet\"\n",
    "            fact_file_scenario = Path('data') / file_scenario\n",
    "            if fact_file_scenario.exists():\n",
    "                file_size_mb_scenario = fact_file_scenario.stat().st_size / (1024 * 1024)\n",
    "                overhead = row['memory_mb'] / file_size_mb_scenario\n",
    "                overhead_str = f\"({overhead:5.1f}x)\"\n",
    "            else:\n",
    "                overhead_str = \"\"\n",
    "        else:\n",
    "            overhead_str = \"(negligible)\"\n",
    "        \n",
    "        print(f\"  {row['engine']:20} | Time: {row['time_seconds']:7.1f}s ({speedup:5.1f}x) | Memory: {memory_str} {overhead_str}\")\n",
    "\n",
    "print(\"\\n\" + \"=\"*110)"
   ]
  }
 ],
 "metadata": {
  "kernelspec": {
   "display_name": "pybrasil-rs (3.14.0)",
   "language": "python",
   "name": "python3"
  },
  "language_info": {
   "codemirror_mode": {
    "name": "ipython",
    "version": 3
   },
   "file_extension": ".py",
   "mimetype": "text/x-python",
   "name": "python",
   "nbconvert_exporter": "python",
   "pygments_lexer": "ipython3",
   "version": "3.14.0rc3"
  }
 },
 "nbformat": 4,
 "nbformat_minor": 4
}
